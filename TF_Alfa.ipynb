{
  "metadata": {
    "kernelspec": {
      "display_name": "Python 3",
      "name": "python3"
    },
    "language_info": {
      "name": "python",
      "version": "3.10.13",
      "mimetype": "text/x-python",
      "codemirror_mode": {
        "name": "ipython",
        "version": 3
      },
      "pygments_lexer": "ipython3",
      "nbconvert_exporter": "python",
      "file_extension": ".py"
    },
    "kaggle": {
      "accelerator": "none",
      "dataSources": [
        {
          "sourceId": 8623357,
          "sourceType": "datasetVersion",
          "datasetId": 5162391
        }
      ],
      "dockerImageVersionId": 30732,
      "isInternetEnabled": false,
      "language": "python",
      "sourceType": "notebook",
      "isGpuEnabled": false
    },
    "colab": {
      "provenance": [],
      "gpuType": "T4"
    },
    "accelerator": "GPU"
  },
  "nbformat_minor": 0,
  "nbformat": 4,
  "cells": [
    {
      "cell_type": "code",
      "source": [
        "from google.colab import drive\n",
        "drive.mount('/content/drive')"
      ],
      "metadata": {
        "colab": {
          "base_uri": "https://localhost:8080/"
        },
        "id": "ru8DcGNy4K-s",
        "outputId": "da9c99db-6b70-4f2a-d63a-aaac096e4c3c"
      },
      "execution_count": 4,
      "outputs": [
        {
          "output_type": "stream",
          "name": "stdout",
          "text": [
            "Drive already mounted at /content/drive; to attempt to forcibly remount, call drive.mount(\"/content/drive\", force_remount=True).\n"
          ]
        }
      ]
    },
    {
      "cell_type": "code",
      "source": [
        "import numpy as np\n",
        "import pandas as pd\n",
        "import matplotlib.pyplot as plt\n",
        "import os\n",
        "\n",
        "dataset_path = '/content/drive/MyDrive/DataSet'\n",
        "flag_types = os.listdir(dataset_path)\n",
        "print (flag_types)\n",
        "\n",
        "print(\"Types of rooms found: \", len(dataset_path))\n"
      ],
      "metadata": {
        "_uuid": "8f2839f25d086af736a60e9eeb907d3b93b6e0e5",
        "_cell_guid": "b1076dfc-b9ad-4769-8c92-a6c4dae69d19",
        "execution": {
          "iopub.status.busy": "2024-06-06T13:14:55.348229Z",
          "iopub.execute_input": "2024-06-06T13:14:55.348621Z",
          "iopub.status.idle": "2024-06-06T13:14:55.360734Z",
          "shell.execute_reply.started": "2024-06-06T13:14:55.348594Z",
          "shell.execute_reply": "2024-06-06T13:14:55.359605Z"
        },
        "trusted": true,
        "colab": {
          "base_uri": "https://localhost:8080/"
        },
        "id": "aSjSLxIpwHNl",
        "outputId": "de4c3505-29c3-4bdf-a766-a62ad36c6491"
      },
      "execution_count": 5,
      "outputs": [
        {
          "output_type": "stream",
          "name": "stdout",
          "text": [
            "['Nazli', 'Dimnit', 'Buzgulu', 'Ala_Idris', 'Ak']\n",
            "Types of rooms found:  30\n"
          ]
        }
      ]
    },
    {
      "cell_type": "code",
      "source": [
        "flags = []\n",
        "\n",
        "for item in flag_types:\n",
        " # Get all the file names\n",
        " all_flags = os.listdir(dataset_path + '/' +item)\n",
        " #print(all_shoes)\n",
        "\n",
        " # Add them to the list\n",
        " for flag in all_flags:\n",
        "    flags.append((item, str(dataset_path + '/' +item) + '/' + flag))\n",
        "    print(flags[:1])"
      ],
      "metadata": {
        "execution": {
          "iopub.status.busy": "2024-06-06T13:15:01.124159Z",
          "iopub.execute_input": "2024-06-06T13:15:01.124688Z",
          "iopub.status.idle": "2024-06-06T13:15:01.212039Z",
          "shell.execute_reply.started": "2024-06-06T13:15:01.124657Z",
          "shell.execute_reply": "2024-06-06T13:15:01.210865Z"
        },
        "trusted": true,
        "colab": {
          "base_uri": "https://localhost:8080/"
        },
        "id": "XzpwBiBSwHNq",
        "outputId": "5984ad26-bea6-4e03-d6b6-e43d81e95420"
      },
      "execution_count": 6,
      "outputs": [
        {
          "output_type": "stream",
          "name": "stdout",
          "text": [
            "[('Nazli', '/content/drive/MyDrive/DataSet/Nazli/Nazli (91).png')]\n",
            "[('Nazli', '/content/drive/MyDrive/DataSet/Nazli/Nazli (91).png')]\n",
            "[('Nazli', '/content/drive/MyDrive/DataSet/Nazli/Nazli (91).png')]\n",
            "[('Nazli', '/content/drive/MyDrive/DataSet/Nazli/Nazli (91).png')]\n",
            "[('Nazli', '/content/drive/MyDrive/DataSet/Nazli/Nazli (91).png')]\n",
            "[('Nazli', '/content/drive/MyDrive/DataSet/Nazli/Nazli (91).png')]\n",
            "[('Nazli', '/content/drive/MyDrive/DataSet/Nazli/Nazli (91).png')]\n",
            "[('Nazli', '/content/drive/MyDrive/DataSet/Nazli/Nazli (91).png')]\n",
            "[('Nazli', '/content/drive/MyDrive/DataSet/Nazli/Nazli (91).png')]\n",
            "[('Nazli', '/content/drive/MyDrive/DataSet/Nazli/Nazli (91).png')]\n",
            "[('Nazli', '/content/drive/MyDrive/DataSet/Nazli/Nazli (91).png')]\n",
            "[('Nazli', '/content/drive/MyDrive/DataSet/Nazli/Nazli (91).png')]\n",
            "[('Nazli', '/content/drive/MyDrive/DataSet/Nazli/Nazli (91).png')]\n",
            "[('Nazli', '/content/drive/MyDrive/DataSet/Nazli/Nazli (91).png')]\n",
            "[('Nazli', '/content/drive/MyDrive/DataSet/Nazli/Nazli (91).png')]\n",
            "[('Nazli', '/content/drive/MyDrive/DataSet/Nazli/Nazli (91).png')]\n",
            "[('Nazli', '/content/drive/MyDrive/DataSet/Nazli/Nazli (91).png')]\n",
            "[('Nazli', '/content/drive/MyDrive/DataSet/Nazli/Nazli (91).png')]\n",
            "[('Nazli', '/content/drive/MyDrive/DataSet/Nazli/Nazli (91).png')]\n",
            "[('Nazli', '/content/drive/MyDrive/DataSet/Nazli/Nazli (91).png')]\n",
            "[('Nazli', '/content/drive/MyDrive/DataSet/Nazli/Nazli (91).png')]\n",
            "[('Nazli', '/content/drive/MyDrive/DataSet/Nazli/Nazli (91).png')]\n",
            "[('Nazli', '/content/drive/MyDrive/DataSet/Nazli/Nazli (91).png')]\n",
            "[('Nazli', '/content/drive/MyDrive/DataSet/Nazli/Nazli (91).png')]\n",
            "[('Nazli', '/content/drive/MyDrive/DataSet/Nazli/Nazli (91).png')]\n",
            "[('Nazli', '/content/drive/MyDrive/DataSet/Nazli/Nazli (91).png')]\n",
            "[('Nazli', '/content/drive/MyDrive/DataSet/Nazli/Nazli (91).png')]\n",
            "[('Nazli', '/content/drive/MyDrive/DataSet/Nazli/Nazli (91).png')]\n",
            "[('Nazli', '/content/drive/MyDrive/DataSet/Nazli/Nazli (91).png')]\n",
            "[('Nazli', '/content/drive/MyDrive/DataSet/Nazli/Nazli (91).png')]\n",
            "[('Nazli', '/content/drive/MyDrive/DataSet/Nazli/Nazli (91).png')]\n",
            "[('Nazli', '/content/drive/MyDrive/DataSet/Nazli/Nazli (91).png')]\n",
            "[('Nazli', '/content/drive/MyDrive/DataSet/Nazli/Nazli (91).png')]\n",
            "[('Nazli', '/content/drive/MyDrive/DataSet/Nazli/Nazli (91).png')]\n",
            "[('Nazli', '/content/drive/MyDrive/DataSet/Nazli/Nazli (91).png')]\n",
            "[('Nazli', '/content/drive/MyDrive/DataSet/Nazli/Nazli (91).png')]\n",
            "[('Nazli', '/content/drive/MyDrive/DataSet/Nazli/Nazli (91).png')]\n",
            "[('Nazli', '/content/drive/MyDrive/DataSet/Nazli/Nazli (91).png')]\n",
            "[('Nazli', '/content/drive/MyDrive/DataSet/Nazli/Nazli (91).png')]\n",
            "[('Nazli', '/content/drive/MyDrive/DataSet/Nazli/Nazli (91).png')]\n",
            "[('Nazli', '/content/drive/MyDrive/DataSet/Nazli/Nazli (91).png')]\n",
            "[('Nazli', '/content/drive/MyDrive/DataSet/Nazli/Nazli (91).png')]\n",
            "[('Nazli', '/content/drive/MyDrive/DataSet/Nazli/Nazli (91).png')]\n",
            "[('Nazli', '/content/drive/MyDrive/DataSet/Nazli/Nazli (91).png')]\n",
            "[('Nazli', '/content/drive/MyDrive/DataSet/Nazli/Nazli (91).png')]\n",
            "[('Nazli', '/content/drive/MyDrive/DataSet/Nazli/Nazli (91).png')]\n",
            "[('Nazli', '/content/drive/MyDrive/DataSet/Nazli/Nazli (91).png')]\n",
            "[('Nazli', '/content/drive/MyDrive/DataSet/Nazli/Nazli (91).png')]\n",
            "[('Nazli', '/content/drive/MyDrive/DataSet/Nazli/Nazli (91).png')]\n",
            "[('Nazli', '/content/drive/MyDrive/DataSet/Nazli/Nazli (91).png')]\n",
            "[('Nazli', '/content/drive/MyDrive/DataSet/Nazli/Nazli (91).png')]\n",
            "[('Nazli', '/content/drive/MyDrive/DataSet/Nazli/Nazli (91).png')]\n",
            "[('Nazli', '/content/drive/MyDrive/DataSet/Nazli/Nazli (91).png')]\n",
            "[('Nazli', '/content/drive/MyDrive/DataSet/Nazli/Nazli (91).png')]\n",
            "[('Nazli', '/content/drive/MyDrive/DataSet/Nazli/Nazli (91).png')]\n",
            "[('Nazli', '/content/drive/MyDrive/DataSet/Nazli/Nazli (91).png')]\n",
            "[('Nazli', '/content/drive/MyDrive/DataSet/Nazli/Nazli (91).png')]\n",
            "[('Nazli', '/content/drive/MyDrive/DataSet/Nazli/Nazli (91).png')]\n",
            "[('Nazli', '/content/drive/MyDrive/DataSet/Nazli/Nazli (91).png')]\n",
            "[('Nazli', '/content/drive/MyDrive/DataSet/Nazli/Nazli (91).png')]\n",
            "[('Nazli', '/content/drive/MyDrive/DataSet/Nazli/Nazli (91).png')]\n",
            "[('Nazli', '/content/drive/MyDrive/DataSet/Nazli/Nazli (91).png')]\n",
            "[('Nazli', '/content/drive/MyDrive/DataSet/Nazli/Nazli (91).png')]\n",
            "[('Nazli', '/content/drive/MyDrive/DataSet/Nazli/Nazli (91).png')]\n",
            "[('Nazli', '/content/drive/MyDrive/DataSet/Nazli/Nazli (91).png')]\n",
            "[('Nazli', '/content/drive/MyDrive/DataSet/Nazli/Nazli (91).png')]\n",
            "[('Nazli', '/content/drive/MyDrive/DataSet/Nazli/Nazli (91).png')]\n",
            "[('Nazli', '/content/drive/MyDrive/DataSet/Nazli/Nazli (91).png')]\n",
            "[('Nazli', '/content/drive/MyDrive/DataSet/Nazli/Nazli (91).png')]\n",
            "[('Nazli', '/content/drive/MyDrive/DataSet/Nazli/Nazli (91).png')]\n",
            "[('Nazli', '/content/drive/MyDrive/DataSet/Nazli/Nazli (91).png')]\n",
            "[('Nazli', '/content/drive/MyDrive/DataSet/Nazli/Nazli (91).png')]\n",
            "[('Nazli', '/content/drive/MyDrive/DataSet/Nazli/Nazli (91).png')]\n",
            "[('Nazli', '/content/drive/MyDrive/DataSet/Nazli/Nazli (91).png')]\n",
            "[('Nazli', '/content/drive/MyDrive/DataSet/Nazli/Nazli (91).png')]\n",
            "[('Nazli', '/content/drive/MyDrive/DataSet/Nazli/Nazli (91).png')]\n",
            "[('Nazli', '/content/drive/MyDrive/DataSet/Nazli/Nazli (91).png')]\n",
            "[('Nazli', '/content/drive/MyDrive/DataSet/Nazli/Nazli (91).png')]\n",
            "[('Nazli', '/content/drive/MyDrive/DataSet/Nazli/Nazli (91).png')]\n",
            "[('Nazli', '/content/drive/MyDrive/DataSet/Nazli/Nazli (91).png')]\n",
            "[('Nazli', '/content/drive/MyDrive/DataSet/Nazli/Nazli (91).png')]\n",
            "[('Nazli', '/content/drive/MyDrive/DataSet/Nazli/Nazli (91).png')]\n",
            "[('Nazli', '/content/drive/MyDrive/DataSet/Nazli/Nazli (91).png')]\n",
            "[('Nazli', '/content/drive/MyDrive/DataSet/Nazli/Nazli (91).png')]\n",
            "[('Nazli', '/content/drive/MyDrive/DataSet/Nazli/Nazli (91).png')]\n",
            "[('Nazli', '/content/drive/MyDrive/DataSet/Nazli/Nazli (91).png')]\n",
            "[('Nazli', '/content/drive/MyDrive/DataSet/Nazli/Nazli (91).png')]\n",
            "[('Nazli', '/content/drive/MyDrive/DataSet/Nazli/Nazli (91).png')]\n",
            "[('Nazli', '/content/drive/MyDrive/DataSet/Nazli/Nazli (91).png')]\n",
            "[('Nazli', '/content/drive/MyDrive/DataSet/Nazli/Nazli (91).png')]\n",
            "[('Nazli', '/content/drive/MyDrive/DataSet/Nazli/Nazli (91).png')]\n",
            "[('Nazli', '/content/drive/MyDrive/DataSet/Nazli/Nazli (91).png')]\n",
            "[('Nazli', '/content/drive/MyDrive/DataSet/Nazli/Nazli (91).png')]\n",
            "[('Nazli', '/content/drive/MyDrive/DataSet/Nazli/Nazli (91).png')]\n",
            "[('Nazli', '/content/drive/MyDrive/DataSet/Nazli/Nazli (91).png')]\n",
            "[('Nazli', '/content/drive/MyDrive/DataSet/Nazli/Nazli (91).png')]\n",
            "[('Nazli', '/content/drive/MyDrive/DataSet/Nazli/Nazli (91).png')]\n",
            "[('Nazli', '/content/drive/MyDrive/DataSet/Nazli/Nazli (91).png')]\n",
            "[('Nazli', '/content/drive/MyDrive/DataSet/Nazli/Nazli (91).png')]\n",
            "[('Nazli', '/content/drive/MyDrive/DataSet/Nazli/Nazli (91).png')]\n",
            "[('Nazli', '/content/drive/MyDrive/DataSet/Nazli/Nazli (91).png')]\n",
            "[('Nazli', '/content/drive/MyDrive/DataSet/Nazli/Nazli (91).png')]\n",
            "[('Nazli', '/content/drive/MyDrive/DataSet/Nazli/Nazli (91).png')]\n",
            "[('Nazli', '/content/drive/MyDrive/DataSet/Nazli/Nazli (91).png')]\n",
            "[('Nazli', '/content/drive/MyDrive/DataSet/Nazli/Nazli (91).png')]\n",
            "[('Nazli', '/content/drive/MyDrive/DataSet/Nazli/Nazli (91).png')]\n",
            "[('Nazli', '/content/drive/MyDrive/DataSet/Nazli/Nazli (91).png')]\n",
            "[('Nazli', '/content/drive/MyDrive/DataSet/Nazli/Nazli (91).png')]\n",
            "[('Nazli', '/content/drive/MyDrive/DataSet/Nazli/Nazli (91).png')]\n",
            "[('Nazli', '/content/drive/MyDrive/DataSet/Nazli/Nazli (91).png')]\n",
            "[('Nazli', '/content/drive/MyDrive/DataSet/Nazli/Nazli (91).png')]\n",
            "[('Nazli', '/content/drive/MyDrive/DataSet/Nazli/Nazli (91).png')]\n",
            "[('Nazli', '/content/drive/MyDrive/DataSet/Nazli/Nazli (91).png')]\n",
            "[('Nazli', '/content/drive/MyDrive/DataSet/Nazli/Nazli (91).png')]\n",
            "[('Nazli', '/content/drive/MyDrive/DataSet/Nazli/Nazli (91).png')]\n",
            "[('Nazli', '/content/drive/MyDrive/DataSet/Nazli/Nazli (91).png')]\n",
            "[('Nazli', '/content/drive/MyDrive/DataSet/Nazli/Nazli (91).png')]\n",
            "[('Nazli', '/content/drive/MyDrive/DataSet/Nazli/Nazli (91).png')]\n",
            "[('Nazli', '/content/drive/MyDrive/DataSet/Nazli/Nazli (91).png')]\n",
            "[('Nazli', '/content/drive/MyDrive/DataSet/Nazli/Nazli (91).png')]\n",
            "[('Nazli', '/content/drive/MyDrive/DataSet/Nazli/Nazli (91).png')]\n",
            "[('Nazli', '/content/drive/MyDrive/DataSet/Nazli/Nazli (91).png')]\n",
            "[('Nazli', '/content/drive/MyDrive/DataSet/Nazli/Nazli (91).png')]\n",
            "[('Nazli', '/content/drive/MyDrive/DataSet/Nazli/Nazli (91).png')]\n",
            "[('Nazli', '/content/drive/MyDrive/DataSet/Nazli/Nazli (91).png')]\n",
            "[('Nazli', '/content/drive/MyDrive/DataSet/Nazli/Nazli (91).png')]\n",
            "[('Nazli', '/content/drive/MyDrive/DataSet/Nazli/Nazli (91).png')]\n",
            "[('Nazli', '/content/drive/MyDrive/DataSet/Nazli/Nazli (91).png')]\n",
            "[('Nazli', '/content/drive/MyDrive/DataSet/Nazli/Nazli (91).png')]\n",
            "[('Nazli', '/content/drive/MyDrive/DataSet/Nazli/Nazli (91).png')]\n",
            "[('Nazli', '/content/drive/MyDrive/DataSet/Nazli/Nazli (91).png')]\n",
            "[('Nazli', '/content/drive/MyDrive/DataSet/Nazli/Nazli (91).png')]\n",
            "[('Nazli', '/content/drive/MyDrive/DataSet/Nazli/Nazli (91).png')]\n",
            "[('Nazli', '/content/drive/MyDrive/DataSet/Nazli/Nazli (91).png')]\n",
            "[('Nazli', '/content/drive/MyDrive/DataSet/Nazli/Nazli (91).png')]\n",
            "[('Nazli', '/content/drive/MyDrive/DataSet/Nazli/Nazli (91).png')]\n",
            "[('Nazli', '/content/drive/MyDrive/DataSet/Nazli/Nazli (91).png')]\n",
            "[('Nazli', '/content/drive/MyDrive/DataSet/Nazli/Nazli (91).png')]\n",
            "[('Nazli', '/content/drive/MyDrive/DataSet/Nazli/Nazli (91).png')]\n",
            "[('Nazli', '/content/drive/MyDrive/DataSet/Nazli/Nazli (91).png')]\n",
            "[('Nazli', '/content/drive/MyDrive/DataSet/Nazli/Nazli (91).png')]\n",
            "[('Nazli', '/content/drive/MyDrive/DataSet/Nazli/Nazli (91).png')]\n",
            "[('Nazli', '/content/drive/MyDrive/DataSet/Nazli/Nazli (91).png')]\n",
            "[('Nazli', '/content/drive/MyDrive/DataSet/Nazli/Nazli (91).png')]\n",
            "[('Nazli', '/content/drive/MyDrive/DataSet/Nazli/Nazli (91).png')]\n",
            "[('Nazli', '/content/drive/MyDrive/DataSet/Nazli/Nazli (91).png')]\n",
            "[('Nazli', '/content/drive/MyDrive/DataSet/Nazli/Nazli (91).png')]\n",
            "[('Nazli', '/content/drive/MyDrive/DataSet/Nazli/Nazli (91).png')]\n",
            "[('Nazli', '/content/drive/MyDrive/DataSet/Nazli/Nazli (91).png')]\n",
            "[('Nazli', '/content/drive/MyDrive/DataSet/Nazli/Nazli (91).png')]\n",
            "[('Nazli', '/content/drive/MyDrive/DataSet/Nazli/Nazli (91).png')]\n",
            "[('Nazli', '/content/drive/MyDrive/DataSet/Nazli/Nazli (91).png')]\n",
            "[('Nazli', '/content/drive/MyDrive/DataSet/Nazli/Nazli (91).png')]\n",
            "[('Nazli', '/content/drive/MyDrive/DataSet/Nazli/Nazli (91).png')]\n",
            "[('Nazli', '/content/drive/MyDrive/DataSet/Nazli/Nazli (91).png')]\n",
            "[('Nazli', '/content/drive/MyDrive/DataSet/Nazli/Nazli (91).png')]\n",
            "[('Nazli', '/content/drive/MyDrive/DataSet/Nazli/Nazli (91).png')]\n",
            "[('Nazli', '/content/drive/MyDrive/DataSet/Nazli/Nazli (91).png')]\n",
            "[('Nazli', '/content/drive/MyDrive/DataSet/Nazli/Nazli (91).png')]\n",
            "[('Nazli', '/content/drive/MyDrive/DataSet/Nazli/Nazli (91).png')]\n",
            "[('Nazli', '/content/drive/MyDrive/DataSet/Nazli/Nazli (91).png')]\n",
            "[('Nazli', '/content/drive/MyDrive/DataSet/Nazli/Nazli (91).png')]\n",
            "[('Nazli', '/content/drive/MyDrive/DataSet/Nazli/Nazli (91).png')]\n",
            "[('Nazli', '/content/drive/MyDrive/DataSet/Nazli/Nazli (91).png')]\n",
            "[('Nazli', '/content/drive/MyDrive/DataSet/Nazli/Nazli (91).png')]\n",
            "[('Nazli', '/content/drive/MyDrive/DataSet/Nazli/Nazli (91).png')]\n",
            "[('Nazli', '/content/drive/MyDrive/DataSet/Nazli/Nazli (91).png')]\n",
            "[('Nazli', '/content/drive/MyDrive/DataSet/Nazli/Nazli (91).png')]\n",
            "[('Nazli', '/content/drive/MyDrive/DataSet/Nazli/Nazli (91).png')]\n",
            "[('Nazli', '/content/drive/MyDrive/DataSet/Nazli/Nazli (91).png')]\n",
            "[('Nazli', '/content/drive/MyDrive/DataSet/Nazli/Nazli (91).png')]\n",
            "[('Nazli', '/content/drive/MyDrive/DataSet/Nazli/Nazli (91).png')]\n",
            "[('Nazli', '/content/drive/MyDrive/DataSet/Nazli/Nazli (91).png')]\n",
            "[('Nazli', '/content/drive/MyDrive/DataSet/Nazli/Nazli (91).png')]\n",
            "[('Nazli', '/content/drive/MyDrive/DataSet/Nazli/Nazli (91).png')]\n",
            "[('Nazli', '/content/drive/MyDrive/DataSet/Nazli/Nazli (91).png')]\n",
            "[('Nazli', '/content/drive/MyDrive/DataSet/Nazli/Nazli (91).png')]\n",
            "[('Nazli', '/content/drive/MyDrive/DataSet/Nazli/Nazli (91).png')]\n",
            "[('Nazli', '/content/drive/MyDrive/DataSet/Nazli/Nazli (91).png')]\n",
            "[('Nazli', '/content/drive/MyDrive/DataSet/Nazli/Nazli (91).png')]\n",
            "[('Nazli', '/content/drive/MyDrive/DataSet/Nazli/Nazli (91).png')]\n",
            "[('Nazli', '/content/drive/MyDrive/DataSet/Nazli/Nazli (91).png')]\n",
            "[('Nazli', '/content/drive/MyDrive/DataSet/Nazli/Nazli (91).png')]\n",
            "[('Nazli', '/content/drive/MyDrive/DataSet/Nazli/Nazli (91).png')]\n",
            "[('Nazli', '/content/drive/MyDrive/DataSet/Nazli/Nazli (91).png')]\n",
            "[('Nazli', '/content/drive/MyDrive/DataSet/Nazli/Nazli (91).png')]\n",
            "[('Nazli', '/content/drive/MyDrive/DataSet/Nazli/Nazli (91).png')]\n",
            "[('Nazli', '/content/drive/MyDrive/DataSet/Nazli/Nazli (91).png')]\n",
            "[('Nazli', '/content/drive/MyDrive/DataSet/Nazli/Nazli (91).png')]\n",
            "[('Nazli', '/content/drive/MyDrive/DataSet/Nazli/Nazli (91).png')]\n",
            "[('Nazli', '/content/drive/MyDrive/DataSet/Nazli/Nazli (91).png')]\n",
            "[('Nazli', '/content/drive/MyDrive/DataSet/Nazli/Nazli (91).png')]\n",
            "[('Nazli', '/content/drive/MyDrive/DataSet/Nazli/Nazli (91).png')]\n",
            "[('Nazli', '/content/drive/MyDrive/DataSet/Nazli/Nazli (91).png')]\n",
            "[('Nazli', '/content/drive/MyDrive/DataSet/Nazli/Nazli (91).png')]\n",
            "[('Nazli', '/content/drive/MyDrive/DataSet/Nazli/Nazli (91).png')]\n",
            "[('Nazli', '/content/drive/MyDrive/DataSet/Nazli/Nazli (91).png')]\n",
            "[('Nazli', '/content/drive/MyDrive/DataSet/Nazli/Nazli (91).png')]\n",
            "[('Nazli', '/content/drive/MyDrive/DataSet/Nazli/Nazli (91).png')]\n",
            "[('Nazli', '/content/drive/MyDrive/DataSet/Nazli/Nazli (91).png')]\n",
            "[('Nazli', '/content/drive/MyDrive/DataSet/Nazli/Nazli (91).png')]\n",
            "[('Nazli', '/content/drive/MyDrive/DataSet/Nazli/Nazli (91).png')]\n",
            "[('Nazli', '/content/drive/MyDrive/DataSet/Nazli/Nazli (91).png')]\n",
            "[('Nazli', '/content/drive/MyDrive/DataSet/Nazli/Nazli (91).png')]\n",
            "[('Nazli', '/content/drive/MyDrive/DataSet/Nazli/Nazli (91).png')]\n",
            "[('Nazli', '/content/drive/MyDrive/DataSet/Nazli/Nazli (91).png')]\n",
            "[('Nazli', '/content/drive/MyDrive/DataSet/Nazli/Nazli (91).png')]\n",
            "[('Nazli', '/content/drive/MyDrive/DataSet/Nazli/Nazli (91).png')]\n",
            "[('Nazli', '/content/drive/MyDrive/DataSet/Nazli/Nazli (91).png')]\n",
            "[('Nazli', '/content/drive/MyDrive/DataSet/Nazli/Nazli (91).png')]\n",
            "[('Nazli', '/content/drive/MyDrive/DataSet/Nazli/Nazli (91).png')]\n",
            "[('Nazli', '/content/drive/MyDrive/DataSet/Nazli/Nazli (91).png')]\n",
            "[('Nazli', '/content/drive/MyDrive/DataSet/Nazli/Nazli (91).png')]\n",
            "[('Nazli', '/content/drive/MyDrive/DataSet/Nazli/Nazli (91).png')]\n",
            "[('Nazli', '/content/drive/MyDrive/DataSet/Nazli/Nazli (91).png')]\n",
            "[('Nazli', '/content/drive/MyDrive/DataSet/Nazli/Nazli (91).png')]\n",
            "[('Nazli', '/content/drive/MyDrive/DataSet/Nazli/Nazli (91).png')]\n",
            "[('Nazli', '/content/drive/MyDrive/DataSet/Nazli/Nazli (91).png')]\n",
            "[('Nazli', '/content/drive/MyDrive/DataSet/Nazli/Nazli (91).png')]\n",
            "[('Nazli', '/content/drive/MyDrive/DataSet/Nazli/Nazli (91).png')]\n",
            "[('Nazli', '/content/drive/MyDrive/DataSet/Nazli/Nazli (91).png')]\n",
            "[('Nazli', '/content/drive/MyDrive/DataSet/Nazli/Nazli (91).png')]\n",
            "[('Nazli', '/content/drive/MyDrive/DataSet/Nazli/Nazli (91).png')]\n",
            "[('Nazli', '/content/drive/MyDrive/DataSet/Nazli/Nazli (91).png')]\n",
            "[('Nazli', '/content/drive/MyDrive/DataSet/Nazli/Nazli (91).png')]\n",
            "[('Nazli', '/content/drive/MyDrive/DataSet/Nazli/Nazli (91).png')]\n",
            "[('Nazli', '/content/drive/MyDrive/DataSet/Nazli/Nazli (91).png')]\n",
            "[('Nazli', '/content/drive/MyDrive/DataSet/Nazli/Nazli (91).png')]\n",
            "[('Nazli', '/content/drive/MyDrive/DataSet/Nazli/Nazli (91).png')]\n",
            "[('Nazli', '/content/drive/MyDrive/DataSet/Nazli/Nazli (91).png')]\n",
            "[('Nazli', '/content/drive/MyDrive/DataSet/Nazli/Nazli (91).png')]\n",
            "[('Nazli', '/content/drive/MyDrive/DataSet/Nazli/Nazli (91).png')]\n",
            "[('Nazli', '/content/drive/MyDrive/DataSet/Nazli/Nazli (91).png')]\n",
            "[('Nazli', '/content/drive/MyDrive/DataSet/Nazli/Nazli (91).png')]\n",
            "[('Nazli', '/content/drive/MyDrive/DataSet/Nazli/Nazli (91).png')]\n",
            "[('Nazli', '/content/drive/MyDrive/DataSet/Nazli/Nazli (91).png')]\n",
            "[('Nazli', '/content/drive/MyDrive/DataSet/Nazli/Nazli (91).png')]\n",
            "[('Nazli', '/content/drive/MyDrive/DataSet/Nazli/Nazli (91).png')]\n",
            "[('Nazli', '/content/drive/MyDrive/DataSet/Nazli/Nazli (91).png')]\n",
            "[('Nazli', '/content/drive/MyDrive/DataSet/Nazli/Nazli (91).png')]\n",
            "[('Nazli', '/content/drive/MyDrive/DataSet/Nazli/Nazli (91).png')]\n",
            "[('Nazli', '/content/drive/MyDrive/DataSet/Nazli/Nazli (91).png')]\n",
            "[('Nazli', '/content/drive/MyDrive/DataSet/Nazli/Nazli (91).png')]\n",
            "[('Nazli', '/content/drive/MyDrive/DataSet/Nazli/Nazli (91).png')]\n",
            "[('Nazli', '/content/drive/MyDrive/DataSet/Nazli/Nazli (91).png')]\n",
            "[('Nazli', '/content/drive/MyDrive/DataSet/Nazli/Nazli (91).png')]\n",
            "[('Nazli', '/content/drive/MyDrive/DataSet/Nazli/Nazli (91).png')]\n",
            "[('Nazli', '/content/drive/MyDrive/DataSet/Nazli/Nazli (91).png')]\n",
            "[('Nazli', '/content/drive/MyDrive/DataSet/Nazli/Nazli (91).png')]\n",
            "[('Nazli', '/content/drive/MyDrive/DataSet/Nazli/Nazli (91).png')]\n",
            "[('Nazli', '/content/drive/MyDrive/DataSet/Nazli/Nazli (91).png')]\n",
            "[('Nazli', '/content/drive/MyDrive/DataSet/Nazli/Nazli (91).png')]\n",
            "[('Nazli', '/content/drive/MyDrive/DataSet/Nazli/Nazli (91).png')]\n",
            "[('Nazli', '/content/drive/MyDrive/DataSet/Nazli/Nazli (91).png')]\n",
            "[('Nazli', '/content/drive/MyDrive/DataSet/Nazli/Nazli (91).png')]\n",
            "[('Nazli', '/content/drive/MyDrive/DataSet/Nazli/Nazli (91).png')]\n",
            "[('Nazli', '/content/drive/MyDrive/DataSet/Nazli/Nazli (91).png')]\n",
            "[('Nazli', '/content/drive/MyDrive/DataSet/Nazli/Nazli (91).png')]\n",
            "[('Nazli', '/content/drive/MyDrive/DataSet/Nazli/Nazli (91).png')]\n",
            "[('Nazli', '/content/drive/MyDrive/DataSet/Nazli/Nazli (91).png')]\n",
            "[('Nazli', '/content/drive/MyDrive/DataSet/Nazli/Nazli (91).png')]\n",
            "[('Nazli', '/content/drive/MyDrive/DataSet/Nazli/Nazli (91).png')]\n",
            "[('Nazli', '/content/drive/MyDrive/DataSet/Nazli/Nazli (91).png')]\n",
            "[('Nazli', '/content/drive/MyDrive/DataSet/Nazli/Nazli (91).png')]\n",
            "[('Nazli', '/content/drive/MyDrive/DataSet/Nazli/Nazli (91).png')]\n",
            "[('Nazli', '/content/drive/MyDrive/DataSet/Nazli/Nazli (91).png')]\n",
            "[('Nazli', '/content/drive/MyDrive/DataSet/Nazli/Nazli (91).png')]\n",
            "[('Nazli', '/content/drive/MyDrive/DataSet/Nazli/Nazli (91).png')]\n",
            "[('Nazli', '/content/drive/MyDrive/DataSet/Nazli/Nazli (91).png')]\n",
            "[('Nazli', '/content/drive/MyDrive/DataSet/Nazli/Nazli (91).png')]\n",
            "[('Nazli', '/content/drive/MyDrive/DataSet/Nazli/Nazli (91).png')]\n",
            "[('Nazli', '/content/drive/MyDrive/DataSet/Nazli/Nazli (91).png')]\n",
            "[('Nazli', '/content/drive/MyDrive/DataSet/Nazli/Nazli (91).png')]\n",
            "[('Nazli', '/content/drive/MyDrive/DataSet/Nazli/Nazli (91).png')]\n",
            "[('Nazli', '/content/drive/MyDrive/DataSet/Nazli/Nazli (91).png')]\n",
            "[('Nazli', '/content/drive/MyDrive/DataSet/Nazli/Nazli (91).png')]\n",
            "[('Nazli', '/content/drive/MyDrive/DataSet/Nazli/Nazli (91).png')]\n",
            "[('Nazli', '/content/drive/MyDrive/DataSet/Nazli/Nazli (91).png')]\n",
            "[('Nazli', '/content/drive/MyDrive/DataSet/Nazli/Nazli (91).png')]\n",
            "[('Nazli', '/content/drive/MyDrive/DataSet/Nazli/Nazli (91).png')]\n",
            "[('Nazli', '/content/drive/MyDrive/DataSet/Nazli/Nazli (91).png')]\n",
            "[('Nazli', '/content/drive/MyDrive/DataSet/Nazli/Nazli (91).png')]\n",
            "[('Nazli', '/content/drive/MyDrive/DataSet/Nazli/Nazli (91).png')]\n",
            "[('Nazli', '/content/drive/MyDrive/DataSet/Nazli/Nazli (91).png')]\n",
            "[('Nazli', '/content/drive/MyDrive/DataSet/Nazli/Nazli (91).png')]\n",
            "[('Nazli', '/content/drive/MyDrive/DataSet/Nazli/Nazli (91).png')]\n",
            "[('Nazli', '/content/drive/MyDrive/DataSet/Nazli/Nazli (91).png')]\n",
            "[('Nazli', '/content/drive/MyDrive/DataSet/Nazli/Nazli (91).png')]\n",
            "[('Nazli', '/content/drive/MyDrive/DataSet/Nazli/Nazli (91).png')]\n",
            "[('Nazli', '/content/drive/MyDrive/DataSet/Nazli/Nazli (91).png')]\n",
            "[('Nazli', '/content/drive/MyDrive/DataSet/Nazli/Nazli (91).png')]\n",
            "[('Nazli', '/content/drive/MyDrive/DataSet/Nazli/Nazli (91).png')]\n",
            "[('Nazli', '/content/drive/MyDrive/DataSet/Nazli/Nazli (91).png')]\n",
            "[('Nazli', '/content/drive/MyDrive/DataSet/Nazli/Nazli (91).png')]\n",
            "[('Nazli', '/content/drive/MyDrive/DataSet/Nazli/Nazli (91).png')]\n",
            "[('Nazli', '/content/drive/MyDrive/DataSet/Nazli/Nazli (91).png')]\n",
            "[('Nazli', '/content/drive/MyDrive/DataSet/Nazli/Nazli (91).png')]\n",
            "[('Nazli', '/content/drive/MyDrive/DataSet/Nazli/Nazli (91).png')]\n",
            "[('Nazli', '/content/drive/MyDrive/DataSet/Nazli/Nazli (91).png')]\n",
            "[('Nazli', '/content/drive/MyDrive/DataSet/Nazli/Nazli (91).png')]\n",
            "[('Nazli', '/content/drive/MyDrive/DataSet/Nazli/Nazli (91).png')]\n",
            "[('Nazli', '/content/drive/MyDrive/DataSet/Nazli/Nazli (91).png')]\n",
            "[('Nazli', '/content/drive/MyDrive/DataSet/Nazli/Nazli (91).png')]\n",
            "[('Nazli', '/content/drive/MyDrive/DataSet/Nazli/Nazli (91).png')]\n",
            "[('Nazli', '/content/drive/MyDrive/DataSet/Nazli/Nazli (91).png')]\n",
            "[('Nazli', '/content/drive/MyDrive/DataSet/Nazli/Nazli (91).png')]\n",
            "[('Nazli', '/content/drive/MyDrive/DataSet/Nazli/Nazli (91).png')]\n",
            "[('Nazli', '/content/drive/MyDrive/DataSet/Nazli/Nazli (91).png')]\n",
            "[('Nazli', '/content/drive/MyDrive/DataSet/Nazli/Nazli (91).png')]\n",
            "[('Nazli', '/content/drive/MyDrive/DataSet/Nazli/Nazli (91).png')]\n",
            "[('Nazli', '/content/drive/MyDrive/DataSet/Nazli/Nazli (91).png')]\n",
            "[('Nazli', '/content/drive/MyDrive/DataSet/Nazli/Nazli (91).png')]\n",
            "[('Nazli', '/content/drive/MyDrive/DataSet/Nazli/Nazli (91).png')]\n",
            "[('Nazli', '/content/drive/MyDrive/DataSet/Nazli/Nazli (91).png')]\n",
            "[('Nazli', '/content/drive/MyDrive/DataSet/Nazli/Nazli (91).png')]\n",
            "[('Nazli', '/content/drive/MyDrive/DataSet/Nazli/Nazli (91).png')]\n",
            "[('Nazli', '/content/drive/MyDrive/DataSet/Nazli/Nazli (91).png')]\n",
            "[('Nazli', '/content/drive/MyDrive/DataSet/Nazli/Nazli (91).png')]\n",
            "[('Nazli', '/content/drive/MyDrive/DataSet/Nazli/Nazli (91).png')]\n",
            "[('Nazli', '/content/drive/MyDrive/DataSet/Nazli/Nazli (91).png')]\n",
            "[('Nazli', '/content/drive/MyDrive/DataSet/Nazli/Nazli (91).png')]\n",
            "[('Nazli', '/content/drive/MyDrive/DataSet/Nazli/Nazli (91).png')]\n",
            "[('Nazli', '/content/drive/MyDrive/DataSet/Nazli/Nazli (91).png')]\n",
            "[('Nazli', '/content/drive/MyDrive/DataSet/Nazli/Nazli (91).png')]\n",
            "[('Nazli', '/content/drive/MyDrive/DataSet/Nazli/Nazli (91).png')]\n",
            "[('Nazli', '/content/drive/MyDrive/DataSet/Nazli/Nazli (91).png')]\n",
            "[('Nazli', '/content/drive/MyDrive/DataSet/Nazli/Nazli (91).png')]\n",
            "[('Nazli', '/content/drive/MyDrive/DataSet/Nazli/Nazli (91).png')]\n",
            "[('Nazli', '/content/drive/MyDrive/DataSet/Nazli/Nazli (91).png')]\n",
            "[('Nazli', '/content/drive/MyDrive/DataSet/Nazli/Nazli (91).png')]\n",
            "[('Nazli', '/content/drive/MyDrive/DataSet/Nazli/Nazli (91).png')]\n",
            "[('Nazli', '/content/drive/MyDrive/DataSet/Nazli/Nazli (91).png')]\n",
            "[('Nazli', '/content/drive/MyDrive/DataSet/Nazli/Nazli (91).png')]\n",
            "[('Nazli', '/content/drive/MyDrive/DataSet/Nazli/Nazli (91).png')]\n",
            "[('Nazli', '/content/drive/MyDrive/DataSet/Nazli/Nazli (91).png')]\n",
            "[('Nazli', '/content/drive/MyDrive/DataSet/Nazli/Nazli (91).png')]\n",
            "[('Nazli', '/content/drive/MyDrive/DataSet/Nazli/Nazli (91).png')]\n",
            "[('Nazli', '/content/drive/MyDrive/DataSet/Nazli/Nazli (91).png')]\n",
            "[('Nazli', '/content/drive/MyDrive/DataSet/Nazli/Nazli (91).png')]\n",
            "[('Nazli', '/content/drive/MyDrive/DataSet/Nazli/Nazli (91).png')]\n",
            "[('Nazli', '/content/drive/MyDrive/DataSet/Nazli/Nazli (91).png')]\n",
            "[('Nazli', '/content/drive/MyDrive/DataSet/Nazli/Nazli (91).png')]\n",
            "[('Nazli', '/content/drive/MyDrive/DataSet/Nazli/Nazli (91).png')]\n",
            "[('Nazli', '/content/drive/MyDrive/DataSet/Nazli/Nazli (91).png')]\n",
            "[('Nazli', '/content/drive/MyDrive/DataSet/Nazli/Nazli (91).png')]\n",
            "[('Nazli', '/content/drive/MyDrive/DataSet/Nazli/Nazli (91).png')]\n",
            "[('Nazli', '/content/drive/MyDrive/DataSet/Nazli/Nazli (91).png')]\n",
            "[('Nazli', '/content/drive/MyDrive/DataSet/Nazli/Nazli (91).png')]\n",
            "[('Nazli', '/content/drive/MyDrive/DataSet/Nazli/Nazli (91).png')]\n",
            "[('Nazli', '/content/drive/MyDrive/DataSet/Nazli/Nazli (91).png')]\n",
            "[('Nazli', '/content/drive/MyDrive/DataSet/Nazli/Nazli (91).png')]\n",
            "[('Nazli', '/content/drive/MyDrive/DataSet/Nazli/Nazli (91).png')]\n",
            "[('Nazli', '/content/drive/MyDrive/DataSet/Nazli/Nazli (91).png')]\n",
            "[('Nazli', '/content/drive/MyDrive/DataSet/Nazli/Nazli (91).png')]\n",
            "[('Nazli', '/content/drive/MyDrive/DataSet/Nazli/Nazli (91).png')]\n",
            "[('Nazli', '/content/drive/MyDrive/DataSet/Nazli/Nazli (91).png')]\n",
            "[('Nazli', '/content/drive/MyDrive/DataSet/Nazli/Nazli (91).png')]\n",
            "[('Nazli', '/content/drive/MyDrive/DataSet/Nazli/Nazli (91).png')]\n",
            "[('Nazli', '/content/drive/MyDrive/DataSet/Nazli/Nazli (91).png')]\n",
            "[('Nazli', '/content/drive/MyDrive/DataSet/Nazli/Nazli (91).png')]\n",
            "[('Nazli', '/content/drive/MyDrive/DataSet/Nazli/Nazli (91).png')]\n",
            "[('Nazli', '/content/drive/MyDrive/DataSet/Nazli/Nazli (91).png')]\n",
            "[('Nazli', '/content/drive/MyDrive/DataSet/Nazli/Nazli (91).png')]\n",
            "[('Nazli', '/content/drive/MyDrive/DataSet/Nazli/Nazli (91).png')]\n",
            "[('Nazli', '/content/drive/MyDrive/DataSet/Nazli/Nazli (91).png')]\n",
            "[('Nazli', '/content/drive/MyDrive/DataSet/Nazli/Nazli (91).png')]\n",
            "[('Nazli', '/content/drive/MyDrive/DataSet/Nazli/Nazli (91).png')]\n",
            "[('Nazli', '/content/drive/MyDrive/DataSet/Nazli/Nazli (91).png')]\n",
            "[('Nazli', '/content/drive/MyDrive/DataSet/Nazli/Nazli (91).png')]\n",
            "[('Nazli', '/content/drive/MyDrive/DataSet/Nazli/Nazli (91).png')]\n",
            "[('Nazli', '/content/drive/MyDrive/DataSet/Nazli/Nazli (91).png')]\n",
            "[('Nazli', '/content/drive/MyDrive/DataSet/Nazli/Nazli (91).png')]\n",
            "[('Nazli', '/content/drive/MyDrive/DataSet/Nazli/Nazli (91).png')]\n",
            "[('Nazli', '/content/drive/MyDrive/DataSet/Nazli/Nazli (91).png')]\n",
            "[('Nazli', '/content/drive/MyDrive/DataSet/Nazli/Nazli (91).png')]\n",
            "[('Nazli', '/content/drive/MyDrive/DataSet/Nazli/Nazli (91).png')]\n",
            "[('Nazli', '/content/drive/MyDrive/DataSet/Nazli/Nazli (91).png')]\n",
            "[('Nazli', '/content/drive/MyDrive/DataSet/Nazli/Nazli (91).png')]\n",
            "[('Nazli', '/content/drive/MyDrive/DataSet/Nazli/Nazli (91).png')]\n",
            "[('Nazli', '/content/drive/MyDrive/DataSet/Nazli/Nazli (91).png')]\n",
            "[('Nazli', '/content/drive/MyDrive/DataSet/Nazli/Nazli (91).png')]\n",
            "[('Nazli', '/content/drive/MyDrive/DataSet/Nazli/Nazli (91).png')]\n",
            "[('Nazli', '/content/drive/MyDrive/DataSet/Nazli/Nazli (91).png')]\n",
            "[('Nazli', '/content/drive/MyDrive/DataSet/Nazli/Nazli (91).png')]\n",
            "[('Nazli', '/content/drive/MyDrive/DataSet/Nazli/Nazli (91).png')]\n",
            "[('Nazli', '/content/drive/MyDrive/DataSet/Nazli/Nazli (91).png')]\n",
            "[('Nazli', '/content/drive/MyDrive/DataSet/Nazli/Nazli (91).png')]\n",
            "[('Nazli', '/content/drive/MyDrive/DataSet/Nazli/Nazli (91).png')]\n",
            "[('Nazli', '/content/drive/MyDrive/DataSet/Nazli/Nazli (91).png')]\n",
            "[('Nazli', '/content/drive/MyDrive/DataSet/Nazli/Nazli (91).png')]\n",
            "[('Nazli', '/content/drive/MyDrive/DataSet/Nazli/Nazli (91).png')]\n",
            "[('Nazli', '/content/drive/MyDrive/DataSet/Nazli/Nazli (91).png')]\n",
            "[('Nazli', '/content/drive/MyDrive/DataSet/Nazli/Nazli (91).png')]\n",
            "[('Nazli', '/content/drive/MyDrive/DataSet/Nazli/Nazli (91).png')]\n",
            "[('Nazli', '/content/drive/MyDrive/DataSet/Nazli/Nazli (91).png')]\n",
            "[('Nazli', '/content/drive/MyDrive/DataSet/Nazli/Nazli (91).png')]\n",
            "[('Nazli', '/content/drive/MyDrive/DataSet/Nazli/Nazli (91).png')]\n",
            "[('Nazli', '/content/drive/MyDrive/DataSet/Nazli/Nazli (91).png')]\n",
            "[('Nazli', '/content/drive/MyDrive/DataSet/Nazli/Nazli (91).png')]\n",
            "[('Nazli', '/content/drive/MyDrive/DataSet/Nazli/Nazli (91).png')]\n",
            "[('Nazli', '/content/drive/MyDrive/DataSet/Nazli/Nazli (91).png')]\n",
            "[('Nazli', '/content/drive/MyDrive/DataSet/Nazli/Nazli (91).png')]\n",
            "[('Nazli', '/content/drive/MyDrive/DataSet/Nazli/Nazli (91).png')]\n",
            "[('Nazli', '/content/drive/MyDrive/DataSet/Nazli/Nazli (91).png')]\n",
            "[('Nazli', '/content/drive/MyDrive/DataSet/Nazli/Nazli (91).png')]\n",
            "[('Nazli', '/content/drive/MyDrive/DataSet/Nazli/Nazli (91).png')]\n",
            "[('Nazli', '/content/drive/MyDrive/DataSet/Nazli/Nazli (91).png')]\n",
            "[('Nazli', '/content/drive/MyDrive/DataSet/Nazli/Nazli (91).png')]\n",
            "[('Nazli', '/content/drive/MyDrive/DataSet/Nazli/Nazli (91).png')]\n",
            "[('Nazli', '/content/drive/MyDrive/DataSet/Nazli/Nazli (91).png')]\n",
            "[('Nazli', '/content/drive/MyDrive/DataSet/Nazli/Nazli (91).png')]\n",
            "[('Nazli', '/content/drive/MyDrive/DataSet/Nazli/Nazli (91).png')]\n",
            "[('Nazli', '/content/drive/MyDrive/DataSet/Nazli/Nazli (91).png')]\n",
            "[('Nazli', '/content/drive/MyDrive/DataSet/Nazli/Nazli (91).png')]\n",
            "[('Nazli', '/content/drive/MyDrive/DataSet/Nazli/Nazli (91).png')]\n",
            "[('Nazli', '/content/drive/MyDrive/DataSet/Nazli/Nazli (91).png')]\n",
            "[('Nazli', '/content/drive/MyDrive/DataSet/Nazli/Nazli (91).png')]\n",
            "[('Nazli', '/content/drive/MyDrive/DataSet/Nazli/Nazli (91).png')]\n",
            "[('Nazli', '/content/drive/MyDrive/DataSet/Nazli/Nazli (91).png')]\n",
            "[('Nazli', '/content/drive/MyDrive/DataSet/Nazli/Nazli (91).png')]\n",
            "[('Nazli', '/content/drive/MyDrive/DataSet/Nazli/Nazli (91).png')]\n",
            "[('Nazli', '/content/drive/MyDrive/DataSet/Nazli/Nazli (91).png')]\n",
            "[('Nazli', '/content/drive/MyDrive/DataSet/Nazli/Nazli (91).png')]\n",
            "[('Nazli', '/content/drive/MyDrive/DataSet/Nazli/Nazli (91).png')]\n",
            "[('Nazli', '/content/drive/MyDrive/DataSet/Nazli/Nazli (91).png')]\n",
            "[('Nazli', '/content/drive/MyDrive/DataSet/Nazli/Nazli (91).png')]\n",
            "[('Nazli', '/content/drive/MyDrive/DataSet/Nazli/Nazli (91).png')]\n",
            "[('Nazli', '/content/drive/MyDrive/DataSet/Nazli/Nazli (91).png')]\n",
            "[('Nazli', '/content/drive/MyDrive/DataSet/Nazli/Nazli (91).png')]\n",
            "[('Nazli', '/content/drive/MyDrive/DataSet/Nazli/Nazli (91).png')]\n",
            "[('Nazli', '/content/drive/MyDrive/DataSet/Nazli/Nazli (91).png')]\n",
            "[('Nazli', '/content/drive/MyDrive/DataSet/Nazli/Nazli (91).png')]\n",
            "[('Nazli', '/content/drive/MyDrive/DataSet/Nazli/Nazli (91).png')]\n",
            "[('Nazli', '/content/drive/MyDrive/DataSet/Nazli/Nazli (91).png')]\n",
            "[('Nazli', '/content/drive/MyDrive/DataSet/Nazli/Nazli (91).png')]\n",
            "[('Nazli', '/content/drive/MyDrive/DataSet/Nazli/Nazli (91).png')]\n",
            "[('Nazli', '/content/drive/MyDrive/DataSet/Nazli/Nazli (91).png')]\n",
            "[('Nazli', '/content/drive/MyDrive/DataSet/Nazli/Nazli (91).png')]\n",
            "[('Nazli', '/content/drive/MyDrive/DataSet/Nazli/Nazli (91).png')]\n",
            "[('Nazli', '/content/drive/MyDrive/DataSet/Nazli/Nazli (91).png')]\n",
            "[('Nazli', '/content/drive/MyDrive/DataSet/Nazli/Nazli (91).png')]\n",
            "[('Nazli', '/content/drive/MyDrive/DataSet/Nazli/Nazli (91).png')]\n",
            "[('Nazli', '/content/drive/MyDrive/DataSet/Nazli/Nazli (91).png')]\n",
            "[('Nazli', '/content/drive/MyDrive/DataSet/Nazli/Nazli (91).png')]\n",
            "[('Nazli', '/content/drive/MyDrive/DataSet/Nazli/Nazli (91).png')]\n",
            "[('Nazli', '/content/drive/MyDrive/DataSet/Nazli/Nazli (91).png')]\n",
            "[('Nazli', '/content/drive/MyDrive/DataSet/Nazli/Nazli (91).png')]\n",
            "[('Nazli', '/content/drive/MyDrive/DataSet/Nazli/Nazli (91).png')]\n",
            "[('Nazli', '/content/drive/MyDrive/DataSet/Nazli/Nazli (91).png')]\n",
            "[('Nazli', '/content/drive/MyDrive/DataSet/Nazli/Nazli (91).png')]\n",
            "[('Nazli', '/content/drive/MyDrive/DataSet/Nazli/Nazli (91).png')]\n",
            "[('Nazli', '/content/drive/MyDrive/DataSet/Nazli/Nazli (91).png')]\n",
            "[('Nazli', '/content/drive/MyDrive/DataSet/Nazli/Nazli (91).png')]\n",
            "[('Nazli', '/content/drive/MyDrive/DataSet/Nazli/Nazli (91).png')]\n",
            "[('Nazli', '/content/drive/MyDrive/DataSet/Nazli/Nazli (91).png')]\n",
            "[('Nazli', '/content/drive/MyDrive/DataSet/Nazli/Nazli (91).png')]\n",
            "[('Nazli', '/content/drive/MyDrive/DataSet/Nazli/Nazli (91).png')]\n",
            "[('Nazli', '/content/drive/MyDrive/DataSet/Nazli/Nazli (91).png')]\n",
            "[('Nazli', '/content/drive/MyDrive/DataSet/Nazli/Nazli (91).png')]\n",
            "[('Nazli', '/content/drive/MyDrive/DataSet/Nazli/Nazli (91).png')]\n",
            "[('Nazli', '/content/drive/MyDrive/DataSet/Nazli/Nazli (91).png')]\n",
            "[('Nazli', '/content/drive/MyDrive/DataSet/Nazli/Nazli (91).png')]\n",
            "[('Nazli', '/content/drive/MyDrive/DataSet/Nazli/Nazli (91).png')]\n",
            "[('Nazli', '/content/drive/MyDrive/DataSet/Nazli/Nazli (91).png')]\n",
            "[('Nazli', '/content/drive/MyDrive/DataSet/Nazli/Nazli (91).png')]\n",
            "[('Nazli', '/content/drive/MyDrive/DataSet/Nazli/Nazli (91).png')]\n",
            "[('Nazli', '/content/drive/MyDrive/DataSet/Nazli/Nazli (91).png')]\n",
            "[('Nazli', '/content/drive/MyDrive/DataSet/Nazli/Nazli (91).png')]\n",
            "[('Nazli', '/content/drive/MyDrive/DataSet/Nazli/Nazli (91).png')]\n",
            "[('Nazli', '/content/drive/MyDrive/DataSet/Nazli/Nazli (91).png')]\n",
            "[('Nazli', '/content/drive/MyDrive/DataSet/Nazli/Nazli (91).png')]\n",
            "[('Nazli', '/content/drive/MyDrive/DataSet/Nazli/Nazli (91).png')]\n",
            "[('Nazli', '/content/drive/MyDrive/DataSet/Nazli/Nazli (91).png')]\n",
            "[('Nazli', '/content/drive/MyDrive/DataSet/Nazli/Nazli (91).png')]\n",
            "[('Nazli', '/content/drive/MyDrive/DataSet/Nazli/Nazli (91).png')]\n",
            "[('Nazli', '/content/drive/MyDrive/DataSet/Nazli/Nazli (91).png')]\n",
            "[('Nazli', '/content/drive/MyDrive/DataSet/Nazli/Nazli (91).png')]\n",
            "[('Nazli', '/content/drive/MyDrive/DataSet/Nazli/Nazli (91).png')]\n",
            "[('Nazli', '/content/drive/MyDrive/DataSet/Nazli/Nazli (91).png')]\n",
            "[('Nazli', '/content/drive/MyDrive/DataSet/Nazli/Nazli (91).png')]\n",
            "[('Nazli', '/content/drive/MyDrive/DataSet/Nazli/Nazli (91).png')]\n",
            "[('Nazli', '/content/drive/MyDrive/DataSet/Nazli/Nazli (91).png')]\n",
            "[('Nazli', '/content/drive/MyDrive/DataSet/Nazli/Nazli (91).png')]\n",
            "[('Nazli', '/content/drive/MyDrive/DataSet/Nazli/Nazli (91).png')]\n",
            "[('Nazli', '/content/drive/MyDrive/DataSet/Nazli/Nazli (91).png')]\n",
            "[('Nazli', '/content/drive/MyDrive/DataSet/Nazli/Nazli (91).png')]\n",
            "[('Nazli', '/content/drive/MyDrive/DataSet/Nazli/Nazli (91).png')]\n",
            "[('Nazli', '/content/drive/MyDrive/DataSet/Nazli/Nazli (91).png')]\n",
            "[('Nazli', '/content/drive/MyDrive/DataSet/Nazli/Nazli (91).png')]\n",
            "[('Nazli', '/content/drive/MyDrive/DataSet/Nazli/Nazli (91).png')]\n",
            "[('Nazli', '/content/drive/MyDrive/DataSet/Nazli/Nazli (91).png')]\n",
            "[('Nazli', '/content/drive/MyDrive/DataSet/Nazli/Nazli (91).png')]\n",
            "[('Nazli', '/content/drive/MyDrive/DataSet/Nazli/Nazli (91).png')]\n",
            "[('Nazli', '/content/drive/MyDrive/DataSet/Nazli/Nazli (91).png')]\n",
            "[('Nazli', '/content/drive/MyDrive/DataSet/Nazli/Nazli (91).png')]\n",
            "[('Nazli', '/content/drive/MyDrive/DataSet/Nazli/Nazli (91).png')]\n",
            "[('Nazli', '/content/drive/MyDrive/DataSet/Nazli/Nazli (91).png')]\n",
            "[('Nazli', '/content/drive/MyDrive/DataSet/Nazli/Nazli (91).png')]\n",
            "[('Nazli', '/content/drive/MyDrive/DataSet/Nazli/Nazli (91).png')]\n",
            "[('Nazli', '/content/drive/MyDrive/DataSet/Nazli/Nazli (91).png')]\n"
          ]
        }
      ]
    },
    {
      "cell_type": "code",
      "source": [
        "# Build a dataframe\n",
        "flags_df = pd.DataFrame(data=flags, columns=['flag type', 'image'])\n",
        "print(flags_df.head())\n",
        "print(flags_df.tail())"
      ],
      "metadata": {
        "execution": {
          "iopub.status.busy": "2024-06-06T13:15:10.749946Z",
          "iopub.execute_input": "2024-06-06T13:15:10.750313Z",
          "iopub.status.idle": "2024-06-06T13:15:10.761138Z",
          "shell.execute_reply.started": "2024-06-06T13:15:10.750287Z",
          "shell.execute_reply": "2024-06-06T13:15:10.759935Z"
        },
        "trusted": true,
        "colab": {
          "base_uri": "https://localhost:8080/"
        },
        "id": "0-3illWNwHNq",
        "outputId": "8ab1c7a7-9b89-49a4-ee5e-e45c69c88692"
      },
      "execution_count": 7,
      "outputs": [
        {
          "output_type": "stream",
          "name": "stdout",
          "text": [
            "  flag type                                              image\n",
            "0     Nazli  /content/drive/MyDrive/DataSet/Nazli/Nazli (91...\n",
            "1     Nazli  /content/drive/MyDrive/DataSet/Nazli/Nazli (43...\n",
            "2     Nazli  /content/drive/MyDrive/DataSet/Nazli/Nazli (70...\n",
            "3     Nazli  /content/drive/MyDrive/DataSet/Nazli/Nazli (27...\n",
            "4     Nazli  /content/drive/MyDrive/DataSet/Nazli/Nazli (72...\n",
            "    flag type                                          image\n",
            "495        Ak  /content/drive/MyDrive/DataSet/Ak/Ak (21).png\n",
            "496        Ak  /content/drive/MyDrive/DataSet/Ak/Ak (50).png\n",
            "497        Ak  /content/drive/MyDrive/DataSet/Ak/Ak (43).png\n",
            "498        Ak  /content/drive/MyDrive/DataSet/Ak/Ak (86).png\n",
            "499        Ak  /content/drive/MyDrive/DataSet/Ak/Ak (70).png\n"
          ]
        }
      ]
    },
    {
      "cell_type": "code",
      "source": [
        "# Let's check how many samples for each category are present\n",
        "print(\"Total number of leafs in the dataset: \", len(flags_df))"
      ],
      "metadata": {
        "execution": {
          "iopub.status.busy": "2024-06-06T13:15:14.229517Z",
          "iopub.execute_input": "2024-06-06T13:15:14.229944Z",
          "iopub.status.idle": "2024-06-06T13:15:14.237914Z",
          "shell.execute_reply.started": "2024-06-06T13:15:14.229910Z",
          "shell.execute_reply": "2024-06-06T13:15:14.236022Z"
        },
        "trusted": true,
        "colab": {
          "base_uri": "https://localhost:8080/"
        },
        "id": "dH8NmXHBwHNr",
        "outputId": "198583c9-f307-4d00-8811-20bcd4d703d5"
      },
      "execution_count": 8,
      "outputs": [
        {
          "output_type": "stream",
          "name": "stdout",
          "text": [
            "Total number of leafs in the dataset:  500\n"
          ]
        }
      ]
    },
    {
      "cell_type": "code",
      "source": [
        "flag_count = flags_df['flag type'].value_counts()\n",
        "\n",
        "print(\"leaf in each category: \")\n",
        "print(flag_count)"
      ],
      "metadata": {
        "execution": {
          "iopub.status.busy": "2024-06-06T13:15:42.615333Z",
          "iopub.execute_input": "2024-06-06T13:15:42.615727Z",
          "iopub.status.idle": "2024-06-06T13:15:42.630364Z",
          "shell.execute_reply.started": "2024-06-06T13:15:42.615696Z",
          "shell.execute_reply": "2024-06-06T13:15:42.628944Z"
        },
        "trusted": true,
        "colab": {
          "base_uri": "https://localhost:8080/"
        },
        "id": "JtW-4pY-wHNr",
        "outputId": "cd6baeaf-9792-4df1-8071-5b08b9ab4729"
      },
      "execution_count": 9,
      "outputs": [
        {
          "output_type": "stream",
          "name": "stdout",
          "text": [
            "leaf in each category: \n",
            "flag type\n",
            "Nazli        100\n",
            "Dimnit       100\n",
            "Buzgulu      100\n",
            "Ala_Idris    100\n",
            "Ak           100\n",
            "Name: count, dtype: int64\n"
          ]
        }
      ]
    },
    {
      "cell_type": "code",
      "source": [
        "import cv2\n",
        "path = '/content/drive/MyDrive/DataSet/'\n",
        "\n",
        "im_size = 224\n",
        "images = []\n",
        "labels = []\n",
        "\n",
        "for i in flag_types:\n",
        "    data_path = path + str(i)\n",
        "    filenames = [i for i in os.listdir(data_path) ]\n",
        "    print(filenames)\n",
        "    for f in filenames:\n",
        "        img = cv2.imread(data_path + '/' + f)\n",
        "        img = cv2.resize(img, (im_size, im_size))\n",
        "        images.append(img)\n",
        "        labels.append(i)"
      ],
      "metadata": {
        "execution": {
          "iopub.status.busy": "2024-06-06T13:40:20.698601Z",
          "iopub.execute_input": "2024-06-06T13:40:20.699054Z",
          "iopub.status.idle": "2024-06-06T13:40:24.256467Z",
          "shell.execute_reply.started": "2024-06-06T13:40:20.699024Z",
          "shell.execute_reply": "2024-06-06T13:40:24.255276Z"
        },
        "trusted": true,
        "colab": {
          "base_uri": "https://localhost:8080/"
        },
        "id": "blvwCYMvwHNs",
        "outputId": "04296454-b165-4606-b80a-4ac52e4da220"
      },
      "execution_count": 10,
      "outputs": [
        {
          "output_type": "stream",
          "name": "stdout",
          "text": [
            "['Nazli (91).png', 'Nazli (43).png', 'Nazli (70).png', 'Nazli (27).png', 'Nazli (72).png', 'Nazli (64).png', 'Nazli (89).png', 'Nazli (26).png', 'Nazli (65).png', 'Nazli (59).png', 'Nazli (35).png', 'Nazli (67).png', 'Nazli (53).png', 'Nazli (42).png', 'Nazli (39).png', 'Nazli (49).png', 'Nazli (62).png', 'Nazli (22).png', 'Nazli (11).png', 'Nazli (16).png', 'Nazli (44).png', 'Nazli (85).png', 'Nazli (8).png', 'Nazli (69).png', 'Nazli (47).png', 'Nazli (9).png', 'Nazli (25).png', 'Nazli (46).png', 'Nazli (29).png', 'Nazli (77).png', 'Nazli (84).png', 'Nazli (71).png', 'Nazli (79).png', 'Nazli (36).png', 'Nazli (66).png', 'Nazli (28).png', 'Nazli (7).png', 'Nazli (1).png', 'Nazli (61).png', 'Nazli (20).png', 'Nazli (83).png', 'Nazli (2).png', 'Nazli (60).png', 'Nazli (3).png', 'Nazli (41).png', 'Nazli (82).png', 'Nazli (6).png', 'Nazli (45).png', 'Nazli (48).png', 'Nazli (38).png', 'Nazli (14).png', 'Nazli (12).png', 'Nazli (75).png', 'Nazli (30).png', 'Nazli (19).png', 'Nazli (56).png', 'Nazli (33).png', 'Nazli (4).png', 'Nazli (5).png', 'Nazli (88).png', 'Nazli (15).png', 'Nazli (40).png', 'Nazli (10).png', 'Nazli (51).png', 'Nazli (55).png', 'Nazli (58).png', 'Nazli (17).png', 'Nazli (63).png', 'Nazli (13).png', 'Nazli (31).png', 'Nazli (100).png', 'Nazli (73).png', 'Nazli (24).png', 'Nazli (68).png', 'Nazli (34).png', 'Nazli (86).png', 'Nazli (87).png', 'Nazli (80).png', 'Nazli (54).png', 'Nazli (18).png', 'Nazli (81).png', 'Nazli (32).png', 'Nazli (74).png', 'Nazli (57).png', 'Nazli (76).png', 'Nazli (23).png', 'Nazli (52).png', 'Nazli (37).png', 'Nazli (90).png', 'Nazli (50).png', 'Nazli (21).png', 'Nazli (78).png', 'Nazli (99).png', 'Nazli (95).png', 'Nazli (94).png', 'Nazli (93).png', 'Nazli (96).png', 'Nazli (97).png', 'Nazli (92).png', 'Nazli (98).png']\n",
            "['Dimnit (10).png', 'Dimnit (23).png', 'Dimnit (51).png', 'Dimnit (17).png', 'Dimnit (65).png', 'Dimnit (48).png', 'Dimnit (70).png', 'Dimnit (26).png', 'Dimnit (28).png', 'Dimnit (30).png', 'Dimnit (42).png', 'Dimnit (6).png', 'Dimnit (66).png', 'Dimnit (25).png', 'Dimnit (54).png', 'Dimnit (64).png', 'Dimnit (60).png', 'Dimnit (49).png', 'Dimnit (52).png', 'Dimnit (40).png', 'Dimnit (35).png', 'Dimnit (47).png', 'Dimnit (27).png', 'Dimnit (36).png', 'Dimnit (18).png', 'Dimnit (63).png', 'Dimnit (43).png', 'Dimnit (4).png', 'Dimnit (21).png', 'Dimnit (100).png', 'Dimnit (24).png', 'Dimnit (67).png', 'Dimnit (16).png', 'Dimnit (19).png', 'Dimnit (55).png', 'Dimnit (2).png', 'Dimnit (3).png', 'Dimnit (5).png', 'Dimnit (56).png', 'Dimnit (57).png', 'Dimnit (29).png', 'Dimnit (75).png', 'Dimnit (74).png', 'Dimnit (13).png', 'Dimnit (20).png', 'Dimnit (33).png', 'Dimnit (50).png', 'Dimnit (69).png', 'Dimnit (14).png', 'Dimnit (59).png', 'Dimnit (15).png', 'Dimnit (46).png', 'Dimnit (31).png', 'Dimnit (22).png', 'Dimnit (38).png', 'Dimnit (7).png', 'Dimnit (39).png', 'Dimnit (72).png', 'Dimnit (32).png', 'Dimnit (53).png', 'Dimnit (12).png', 'Dimnit (68).png', 'Dimnit (34).png', 'Dimnit (62).png', 'Dimnit (41).png', 'Dimnit (11).png', 'Dimnit (61).png', 'Dimnit (71).png', 'Dimnit (73).png', 'Dimnit (58).png', 'Dimnit (45).png', 'Dimnit (1).png', 'Dimnit (37).png', 'Dimnit (44).png', 'Dimnit (78).png', 'Dimnit (80).png', 'Dimnit (77).png', 'Dimnit (92).png', 'Dimnit (81).png', 'Dimnit (91).png', 'Dimnit (82).png', 'Dimnit (96).png', 'Dimnit (93).png', 'Dimnit (98).png', 'Dimnit (76).png', 'Dimnit (90).png', 'Dimnit (89).png', 'Dimnit (99).png', 'Dimnit (94).png', 'Dimnit (87).png', 'Dimnit (79).png', 'Dimnit (97).png', 'Dimnit (83).png', 'Dimnit (84).png', 'Dimnit (88).png', 'Dimnit (86).png', 'Dimnit (9).png', 'Dimnit (85).png', 'Dimnit (8).png', 'Dimnit (95).png']\n",
            "['Buzgulu (12).png', 'Buzgulu (10).png', 'Buzgulu (51).png', 'Buzgulu (5).png', 'Buzgulu (1).png', 'Buzgulu (25).png', 'Buzgulu (17).png', 'Buzgulu (37).png', 'Buzgulu (32).png', 'Buzgulu (30).png', 'Buzgulu (42).png', 'Buzgulu (54).png', 'Buzgulu (21).png', 'Buzgulu (28).png', 'Buzgulu (13).png', 'Buzgulu (40).png', 'Buzgulu (26).png', 'Buzgulu (53).png', 'Buzgulu (43).png', 'Buzgulu (15).png', 'Buzgulu (18).png', 'Buzgulu (24).png', 'Buzgulu (20).png', 'Buzgulu (46).png', 'Buzgulu (36).png', 'Buzgulu (39).png', 'Buzgulu (31).png', 'Buzgulu (52).png', 'Buzgulu (4).png', 'Buzgulu (22).png', 'Buzgulu (50).png', 'Buzgulu (49).png', 'Buzgulu (35).png', 'Buzgulu (48).png', 'Buzgulu (47).png', 'Buzgulu (27).png', 'Buzgulu (38).png', 'Buzgulu (11).png', 'Buzgulu (3).png', 'Buzgulu (14).png', 'Buzgulu (41).png', 'Buzgulu (2).png', 'Buzgulu (100).png', 'Buzgulu (16).png', 'Buzgulu (34).png', 'Buzgulu (44).png', 'Buzgulu (45).png', 'Buzgulu (23).png', 'Buzgulu (55).png', 'Buzgulu (33).png', 'Buzgulu (19).png', 'Buzgulu (29).png', 'Buzgulu (74).png', 'Buzgulu (91).png', 'Buzgulu (70).png', 'Buzgulu (73).png', 'Buzgulu (78).png', 'Buzgulu (98).png', 'Buzgulu (59).png', 'Buzgulu (72).png', 'Buzgulu (99).png', 'Buzgulu (94).png', 'Buzgulu (85).png', 'Buzgulu (56).png', 'Buzgulu (9).png', 'Buzgulu (65).png', 'Buzgulu (60).png', 'Buzgulu (82).png', 'Buzgulu (76).png', 'Buzgulu (75).png', 'Buzgulu (64).png', 'Buzgulu (80).png', 'Buzgulu (86).png', 'Buzgulu (77).png', 'Buzgulu (8).png', 'Buzgulu (88).png', 'Buzgulu (84).png', 'Buzgulu (62).png', 'Buzgulu (93).png', 'Buzgulu (66).png', 'Buzgulu (7).png', 'Buzgulu (67).png', 'Buzgulu (71).png', 'Buzgulu (57).png', 'Buzgulu (90).png', 'Buzgulu (68).png', 'Buzgulu (6).png', 'Buzgulu (89).png', 'Buzgulu (63).png', 'Buzgulu (92).png', 'Buzgulu (69).png', 'Buzgulu (81).png', 'Buzgulu (83).png', 'Buzgulu (58).png', 'Buzgulu (95).png', 'Buzgulu (87).png', 'Buzgulu (79).png', 'Buzgulu (61).png', 'Buzgulu (97).png', 'Buzgulu (96).png']\n",
            "['Ala_Idris (29).png', 'Ala_Idris (46).png', 'Ala_Idris (28).png', 'Ala_Idris (20).png', 'Ala_Idris (26).png', 'Ala_Idris (24).png', 'Ala_Idris (25).png', 'Ala_Idris (40).png', 'Ala_Idris (13).png', 'Ala_Idris (100).png', 'Ala_Idris (12).png', 'Ala_Idris (35).png', 'Ala_Idris (21).png', 'Ala_Idris (34).png', 'Ala_Idris (45).png', 'Ala_Idris (30).png', 'Ala_Idris (3).png', 'Ala_Idris (39).png', 'Ala_Idris (27).png', 'Ala_Idris (37).png', 'Ala_Idris (41).png', 'Ala_Idris (44).png', 'Ala_Idris (36).png', 'Ala_Idris (32).png', 'Ala_Idris (33).png', 'Ala_Idris (11).png', 'Ala_Idris (2).png', 'Ala_Idris (15).png', 'Ala_Idris (4).png', 'Ala_Idris (18).png', 'Ala_Idris (42).png', 'Ala_Idris (23).png', 'Ala_Idris (31).png', 'Ala_Idris (43).png', 'Ala_Idris (10).png', 'Ala_Idris (1).png', 'Ala_Idris (38).png', 'Ala_Idris (16).png', 'Ala_Idris (22).png', 'Ala_Idris (19).png', 'Ala_Idris (14).png', 'Ala_Idris (17).png', 'Ala_Idris (76).png', 'Ala_Idris (52).png', 'Ala_Idris (90).png', 'Ala_Idris (54).png', 'Ala_Idris (47).png', 'Ala_Idris (87).png', 'Ala_Idris (97).png', 'Ala_Idris (82).png', 'Ala_Idris (62).png', 'Ala_Idris (85).png', 'Ala_Idris (72).png', 'Ala_Idris (61).png', 'Ala_Idris (5).png', 'Ala_Idris (81).png', 'Ala_Idris (71).png', 'Ala_Idris (63).png', 'Ala_Idris (50).png', 'Ala_Idris (94).png', 'Ala_Idris (69).png', 'Ala_Idris (64).png', 'Ala_Idris (84).png', 'Ala_Idris (6).png', 'Ala_Idris (58).png', 'Ala_Idris (55).png', 'Ala_Idris (59).png', 'Ala_Idris (89).png', 'Ala_Idris (98).png', 'Ala_Idris (49).png', 'Ala_Idris (48).png', 'Ala_Idris (66).png', 'Ala_Idris (51).png', 'Ala_Idris (78).png', 'Ala_Idris (79).png', 'Ala_Idris (88).png', 'Ala_Idris (56).png', 'Ala_Idris (68).png', 'Ala_Idris (7).png', 'Ala_Idris (93).png', 'Ala_Idris (80).png', 'Ala_Idris (77).png', 'Ala_Idris (75).png', 'Ala_Idris (73).png', 'Ala_Idris (95).png', 'Ala_Idris (9).png', 'Ala_Idris (99).png', 'Ala_Idris (65).png', 'Ala_Idris (8).png', 'Ala_Idris (74).png', 'Ala_Idris (70).png', 'Ala_Idris (83).png', 'Ala_Idris (53).png', 'Ala_Idris (92).png', 'Ala_Idris (86).png', 'Ala_Idris (96).png', 'Ala_Idris (57).png', 'Ala_Idris (91).png', 'Ala_Idris (67).png', 'Ala_Idris (60).png']\n",
            "['Ak (100).png', 'Ak (1).png', 'Ak (15).png', 'Ak (14).png', 'Ak (10).png', 'Ak (16).png', 'Ak (13).png', 'Ak (12).png', 'Ak (11).png', 'Ak (71).png', 'Ak (28).png', 'Ak (51).png', 'Ak (65).png', 'Ak (20).png', 'Ak (41).png', 'Ak (76).png', 'Ak (88).png', 'Ak (5).png', 'Ak (49).png', 'Ak (35).png', 'Ak (78).png', 'Ak (42).png', 'Ak (98).png', 'Ak (74).png', 'Ak (62).png', 'Ak (6).png', 'Ak (66).png', 'Ak (90).png', 'Ak (47).png', 'Ak (57).png', 'Ak (75).png', 'Ak (22).png', 'Ak (4).png', 'Ak (67).png', 'Ak (87).png', 'Ak (40).png', 'Ak (46).png', 'Ak (89).png', 'Ak (60).png', 'Ak (91).png', 'Ak (52).png', 'Ak (24).png', 'Ak (59).png', 'Ak (8).png', 'Ak (64).png', 'Ak (48).png', 'Ak (36).png', 'Ak (93).png', 'Ak (38).png', 'Ak (54).png', 'Ak (77).png', 'Ak (99).png', 'Ak (83).png', 'Ak (72).png', 'Ak (82).png', 'Ak (37).png', 'Ak (31).png', 'Ak (30).png', 'Ak (79).png', 'Ak (33).png', 'Ak (69).png', 'Ak (2).png', 'Ak (44).png', 'Ak (19).png', 'Ak (92).png', 'Ak (97).png', 'Ak (26).png', 'Ak (81).png', 'Ak (29).png', 'Ak (96).png', 'Ak (73).png', 'Ak (18).png', 'Ak (58).png', 'Ak (61).png', 'Ak (80).png', 'Ak (7).png', 'Ak (95).png', 'Ak (68).png', 'Ak (23).png', 'Ak (94).png', 'Ak (17).png', 'Ak (45).png', 'Ak (85).png', 'Ak (84).png', 'Ak (34).png', 'Ak (32).png', 'Ak (27).png', 'Ak (53).png', 'Ak (63).png', 'Ak (56).png', 'Ak (3).png', 'Ak (39).png', 'Ak (9).png', 'Ak (25).png', 'Ak (55).png', 'Ak (21).png', 'Ak (50).png', 'Ak (43).png', 'Ak (86).png', 'Ak (70).png']\n"
          ]
        }
      ]
    },
    {
      "cell_type": "code",
      "source": [
        "images = np.array(images)\n",
        "images.shape"
      ],
      "metadata": {
        "execution": {
          "iopub.status.busy": "2024-06-06T13:40:36.396030Z",
          "iopub.execute_input": "2024-06-06T13:40:36.396414Z",
          "iopub.status.idle": "2024-06-06T13:40:36.430520Z",
          "shell.execute_reply.started": "2024-06-06T13:40:36.396387Z",
          "shell.execute_reply": "2024-06-06T13:40:36.429027Z"
        },
        "trusted": true,
        "colab": {
          "base_uri": "https://localhost:8080/"
        },
        "id": "I4jZXPeMwHNs",
        "outputId": "1296de49-3cb1-4fba-ebfb-3d7add5b4e07"
      },
      "execution_count": 11,
      "outputs": [
        {
          "output_type": "execute_result",
          "data": {
            "text/plain": [
              "(500, 224, 224, 3)"
            ]
          },
          "metadata": {},
          "execution_count": 11
        }
      ]
    },
    {
      "cell_type": "code",
      "source": [
        "images = images.astype('float32') / 255.0\n",
        "images.shape"
      ],
      "metadata": {
        "execution": {
          "iopub.status.busy": "2024-06-06T13:40:40.676037Z",
          "iopub.execute_input": "2024-06-06T13:40:40.676450Z",
          "iopub.status.idle": "2024-06-06T13:40:40.792019Z",
          "shell.execute_reply.started": "2024-06-06T13:40:40.676420Z",
          "shell.execute_reply": "2024-06-06T13:40:40.790857Z"
        },
        "trusted": true,
        "colab": {
          "base_uri": "https://localhost:8080/"
        },
        "id": "CGvHPwtNwHNt",
        "outputId": "444b0861-bf27-409a-ecf3-a396623ac1b3"
      },
      "execution_count": 12,
      "outputs": [
        {
          "output_type": "execute_result",
          "data": {
            "text/plain": [
              "(500, 224, 224, 3)"
            ]
          },
          "metadata": {},
          "execution_count": 12
        }
      ]
    },
    {
      "cell_type": "code",
      "source": [
        "from sklearn.preprocessing import LabelEncoder , OneHotEncoder\n",
        "y = flags_df['flag type'].values\n",
        "print(y)"
      ],
      "metadata": {
        "execution": {
          "iopub.status.busy": "2024-06-06T13:40:45.405085Z",
          "iopub.execute_input": "2024-06-06T13:40:45.405861Z",
          "iopub.status.idle": "2024-06-06T13:40:45.411846Z",
          "shell.execute_reply.started": "2024-06-06T13:40:45.405819Z",
          "shell.execute_reply": "2024-06-06T13:40:45.410643Z"
        },
        "trusted": true,
        "colab": {
          "base_uri": "https://localhost:8080/"
        },
        "id": "tUrWR7Z5wHNt",
        "outputId": "74df727e-fe37-46d8-e0b8-ccf432efedf4"
      },
      "execution_count": 13,
      "outputs": [
        {
          "output_type": "stream",
          "name": "stdout",
          "text": [
            "['Nazli' 'Nazli' 'Nazli' 'Nazli' 'Nazli']\n"
          ]
        }
      ]
    },
    {
      "cell_type": "code",
      "source": [
        "y_labelencoder = LabelEncoder ()\n",
        "y = y_labelencoder.fit_transform (y)\n",
        "print (y)"
      ],
      "metadata": {
        "execution": {
          "iopub.status.busy": "2024-06-06T13:40:48.669989Z",
          "iopub.execute_input": "2024-06-06T13:40:48.670398Z",
          "iopub.status.idle": "2024-06-06T13:40:48.679507Z",
          "shell.execute_reply.started": "2024-06-06T13:40:48.670369Z",
          "shell.execute_reply": "2024-06-06T13:40:48.678032Z"
        },
        "trusted": true,
        "colab": {
          "base_uri": "https://localhost:8080/"
        },
        "id": "NlSqJVqTwHNu",
        "outputId": "1e59a719-6cdc-475d-9501-b1dc76fa1ac7"
      },
      "execution_count": 14,
      "outputs": [
        {
          "output_type": "stream",
          "name": "stdout",
          "text": [
            "[4 4 4 4 4 4 4 4 4 4 4 4 4 4 4 4 4 4 4 4 4 4 4 4 4 4 4 4 4 4 4 4 4 4 4 4 4\n",
            " 4 4 4 4 4 4 4 4 4 4 4 4 4 4 4 4 4 4 4 4 4 4 4 4 4 4 4 4 4 4 4 4 4 4 4 4 4\n",
            " 4 4 4 4 4 4 4 4 4 4 4 4 4 4 4 4 4 4 4 4 4 4 4 4 4 4 3 3 3 3 3 3 3 3 3 3 3\n",
            " 3 3 3 3 3 3 3 3 3 3 3 3 3 3 3 3 3 3 3 3 3 3 3 3 3 3 3 3 3 3 3 3 3 3 3 3 3\n",
            " 3 3 3 3 3 3 3 3 3 3 3 3 3 3 3 3 3 3 3 3 3 3 3 3 3 3 3 3 3 3 3 3 3 3 3 3 3\n",
            " 3 3 3 3 3 3 3 3 3 3 3 3 3 3 3 2 2 2 2 2 2 2 2 2 2 2 2 2 2 2 2 2 2 2 2 2 2\n",
            " 2 2 2 2 2 2 2 2 2 2 2 2 2 2 2 2 2 2 2 2 2 2 2 2 2 2 2 2 2 2 2 2 2 2 2 2 2\n",
            " 2 2 2 2 2 2 2 2 2 2 2 2 2 2 2 2 2 2 2 2 2 2 2 2 2 2 2 2 2 2 2 2 2 2 2 2 2\n",
            " 2 2 2 2 1 1 1 1 1 1 1 1 1 1 1 1 1 1 1 1 1 1 1 1 1 1 1 1 1 1 1 1 1 1 1 1 1\n",
            " 1 1 1 1 1 1 1 1 1 1 1 1 1 1 1 1 1 1 1 1 1 1 1 1 1 1 1 1 1 1 1 1 1 1 1 1 1\n",
            " 1 1 1 1 1 1 1 1 1 1 1 1 1 1 1 1 1 1 1 1 1 1 1 1 1 1 1 1 1 1 0 0 0 0 0 0 0\n",
            " 0 0 0 0 0 0 0 0 0 0 0 0 0 0 0 0 0 0 0 0 0 0 0 0 0 0 0 0 0 0 0 0 0 0 0 0 0\n",
            " 0 0 0 0 0 0 0 0 0 0 0 0 0 0 0 0 0 0 0 0 0 0 0 0 0 0 0 0 0 0 0 0 0 0 0 0 0\n",
            " 0 0 0 0 0 0 0 0 0 0 0 0 0 0 0 0 0 0 0]\n"
          ]
        }
      ]
    },
    {
      "cell_type": "code",
      "source": [
        "y = y.reshape(-1,1)\n",
        "onehotencoder = OneHotEncoder()  #Converted  scalar output into vector output where the correct class will be 1 and other will be 0\n",
        "Y = onehotencoder.fit_transform(y).toarray()\n",
        "print(Y.shape)"
      ],
      "metadata": {
        "execution": {
          "iopub.status.busy": "2024-06-06T13:40:57.157280Z",
          "iopub.execute_input": "2024-06-06T13:40:57.157715Z",
          "iopub.status.idle": "2024-06-06T13:40:57.166862Z",
          "shell.execute_reply.started": "2024-06-06T13:40:57.157683Z",
          "shell.execute_reply": "2024-06-06T13:40:57.165522Z"
        },
        "trusted": true,
        "colab": {
          "base_uri": "https://localhost:8080/"
        },
        "id": "4NOXFjGLwHNu",
        "outputId": "f6ef404a-a33f-4fba-a838-d6d9ef2ec10e"
      },
      "execution_count": 15,
      "outputs": [
        {
          "output_type": "stream",
          "name": "stdout",
          "text": [
            "(500, 5)\n"
          ]
        }
      ]
    },
    {
      "cell_type": "code",
      "source": [
        "from sklearn.utils import shuffle\n",
        "from sklearn.model_selection import train_test_split\n",
        "\n",
        "\n",
        "images, Y = shuffle(images, Y, random_state=1)\n",
        "\n",
        "train_x, test_x, train_y, test_y = train_test_split(images, Y, test_size=0.05, random_state=415)\n",
        "\n",
        "#inpect the shape of the training and testing.\n",
        "print(train_x.shape)\n",
        "print(train_y.shape)\n",
        "print(test_x.shape)\n",
        "print(test_y.shape)"
      ],
      "metadata": {
        "execution": {
          "iopub.status.busy": "2024-06-06T13:41:01.246794Z",
          "iopub.execute_input": "2024-06-06T13:41:01.247177Z",
          "iopub.status.idle": "2024-06-06T13:41:01.437806Z",
          "shell.execute_reply.started": "2024-06-06T13:41:01.247150Z",
          "shell.execute_reply": "2024-06-06T13:41:01.436639Z"
        },
        "trusted": true,
        "colab": {
          "base_uri": "https://localhost:8080/"
        },
        "id": "AfpR8vHDwHNu",
        "outputId": "618e5ff7-0585-4341-a740-359b2f2ede6c"
      },
      "execution_count": 16,
      "outputs": [
        {
          "output_type": "stream",
          "name": "stdout",
          "text": [
            "(475, 224, 224, 3)\n",
            "(475, 5)\n",
            "(25, 224, 224, 3)\n",
            "(25, 5)\n"
          ]
        }
      ]
    },
    {
      "cell_type": "code",
      "source": [
        "from __future__ import print_function\n",
        "import warnings\n",
        "\n",
        "from tensorflow.keras.models import Model\n",
        "from tensorflow.keras.layers import Flatten, Dense, Input, Conv2D, MaxPooling2D, GlobalMaxPooling2D, GlobalAveragePooling2D\n",
        "from tensorflow.keras.preprocessing import image\n",
        "from tensorflow.keras.utils import get_file\n",
        "from tensorflow.keras import backend as K\n",
        "from tensorflow.keras.applications.imagenet_utils import decode_predictions, preprocess_input"
      ],
      "metadata": {
        "execution": {
          "iopub.status.busy": "2024-06-06T13:41:05.485980Z",
          "iopub.execute_input": "2024-06-06T13:41:05.486368Z",
          "iopub.status.idle": "2024-06-06T13:41:05.493154Z",
          "shell.execute_reply.started": "2024-06-06T13:41:05.486341Z",
          "shell.execute_reply": "2024-06-06T13:41:05.491944Z"
        },
        "trusted": true,
        "id": "2jdMPtBDwHNv"
      },
      "execution_count": 17,
      "outputs": []
    },
    {
      "cell_type": "code",
      "source": [
        "def VGGupdated(input_tensor=None,classes=5):\n",
        "\n",
        "    img_rows, img_cols = 224, 224\n",
        "    img_channels = 3\n",
        "\n",
        "    img_dim = (img_rows, img_cols, img_channels)\n",
        "\n",
        "    img_input = Input(shape=img_dim)\n",
        "\n",
        "    # Block 1\n",
        "    x = Conv2D(64, (3, 3), activation='relu', padding='same', name='block1_conv1')(img_input)\n",
        "    x = Conv2D(64, (3, 3), activation='relu', padding='same', name='block1_conv2')(x)\n",
        "    x = MaxPooling2D((2, 2), strides=(2, 2), name='block1_pool')(x)\n",
        "\n",
        "    # Block 2\n",
        "    x = Conv2D(128, (3, 3), activation='relu', padding='same', name='block2_conv1')(x)\n",
        "    x = Conv2D(128, (3, 3), activation='relu', padding='same', name='block2_conv2')(x)\n",
        "    x = MaxPooling2D((2, 2), strides=(2, 2), name='block2_pool')(x)\n",
        "\n",
        "    # Block 3\n",
        "    x = Conv2D(256, (3, 3), activation='relu', padding='same', name='block3_conv1')(x)\n",
        "    x = Conv2D(256, (3, 3), activation='relu', padding='same', name='block3_conv2')(x)\n",
        "    x = Conv2D(256, (3, 3), activation='relu', padding='same', name='block3_conv3')(x)\n",
        "    x = Conv2D(256, (3, 3), activation='relu', padding='same', name='block3_conv4')(x)\n",
        "    x = MaxPooling2D((2, 2), strides=(2, 2), name='block3_pool')(x)\n",
        "\n",
        "    # Block 4\n",
        "    x = Conv2D(512, (3, 3), activation='relu', padding='same', name='block4_conv1')(x)\n",
        "    x = Conv2D(512, (3, 3), activation='relu', padding='same', name='block4_conv2')(x)\n",
        "    x = Conv2D(512, (3, 3), activation='relu', padding='same', name='block4_conv3')(x)\n",
        "    x = Conv2D(512, (3, 3), activation='relu', padding='same', name='block4_conv4')(x)\n",
        "    x = MaxPooling2D((2, 2), strides=(2, 2), name='block4_pool')(x)\n",
        "\n",
        "    # Block 5\n",
        "    x = Conv2D(512, (3, 3), activation='relu', padding='same', name='block5_conv1')(x)\n",
        "    x = Conv2D(512, (3, 3), activation='relu', padding='same', name='block5_conv2')(x)\n",
        "    x = Conv2D(512, (3, 3), activation='relu', padding='same', name='block5_conv3')(x)\n",
        "    x = Conv2D(512, (3, 3), activation='relu', padding='same', name='block5_conv4')(x)\n",
        "    x = MaxPooling2D((2, 2), strides=(2, 2), name='block5_pool')(x)\n",
        "\n",
        "\n",
        "    # Classification block\n",
        "    x = Flatten(name='flatten')(x)\n",
        "    x = Dense(4096, activation='relu', name='fc1')(x)\n",
        "    x = Dense(4096, activation='relu', name='fc2')(x)\n",
        "    x = Dense(1000, activation='relu', name='fc3')(x)\n",
        "    x = Dense(classes, activation='softmax', name='predictions')(x)\n",
        "\n",
        "    # Create model.\n",
        "\n",
        "\n",
        "    model = Model(inputs = img_input, outputs = x, name='VGGdemo')\n",
        "\n",
        "\n",
        "    return model"
      ],
      "metadata": {
        "execution": {
          "iopub.status.busy": "2024-06-06T13:56:57.822723Z",
          "iopub.execute_input": "2024-06-06T13:56:57.823194Z",
          "iopub.status.idle": "2024-06-06T13:56:57.846576Z",
          "shell.execute_reply.started": "2024-06-06T13:56:57.823164Z",
          "shell.execute_reply": "2024-06-06T13:56:57.845465Z"
        },
        "trusted": true,
        "id": "_hlN6qsiwHNv"
      },
      "execution_count": 18,
      "outputs": []
    },
    {
      "cell_type": "code",
      "source": [
        "model = VGGupdated(classes = 5)"
      ],
      "metadata": {
        "execution": {
          "iopub.status.busy": "2024-06-06T13:57:02.204024Z",
          "iopub.execute_input": "2024-06-06T13:57:02.204431Z",
          "iopub.status.idle": "2024-06-06T13:57:03.268569Z",
          "shell.execute_reply.started": "2024-06-06T13:57:02.204400Z",
          "shell.execute_reply": "2024-06-06T13:57:03.267286Z"
        },
        "trusted": true,
        "id": "BUncxUd3wHNv"
      },
      "execution_count": 19,
      "outputs": []
    },
    {
      "cell_type": "code",
      "source": [
        "model.compile(optimizer='adam', loss='categorical_crossentropy', metrics=['accuracy'])"
      ],
      "metadata": {
        "execution": {
          "iopub.status.busy": "2024-06-06T13:57:07.308010Z",
          "iopub.execute_input": "2024-06-06T13:57:07.308396Z",
          "iopub.status.idle": "2024-06-06T13:57:07.320812Z",
          "shell.execute_reply.started": "2024-06-06T13:57:07.308367Z",
          "shell.execute_reply": "2024-06-06T13:57:07.319708Z"
        },
        "trusted": true,
        "id": "bdKOcHvEwHNv"
      },
      "execution_count": 20,
      "outputs": []
    },
    {
      "cell_type": "code",
      "source": [
        "custom_history = model.fit(train_x, train_y, epochs = 10, batch_size = 5, validation_data=(test_x, test_y))"
      ],
      "metadata": {
        "execution": {
          "iopub.status.busy": "2024-06-06T13:57:24.888625Z",
          "iopub.execute_input": "2024-06-06T13:57:24.889019Z",
          "iopub.status.idle": "2024-06-06T15:32:37.910104Z",
          "shell.execute_reply.started": "2024-06-06T13:57:24.888991Z",
          "shell.execute_reply": "2024-06-06T15:32:37.908450Z"
        },
        "trusted": true,
        "colab": {
          "base_uri": "https://localhost:8080/"
        },
        "id": "Remlx5wrwHNv",
        "outputId": "d6f33791-283e-4828-f134-088ded5062bc"
      },
      "execution_count": 21,
      "outputs": [
        {
          "output_type": "stream",
          "name": "stdout",
          "text": [
            "Epoch 1/10\n",
            "95/95 [==============================] - 28s 143ms/step - loss: 1.7747 - accuracy: 0.1937 - val_loss: 1.6105 - val_accuracy: 0.2400\n",
            "Epoch 2/10\n",
            "95/95 [==============================] - 13s 142ms/step - loss: 1.6104 - accuracy: 0.2000 - val_loss: 1.6161 - val_accuracy: 0.0800\n",
            "Epoch 3/10\n",
            "95/95 [==============================] - 14s 143ms/step - loss: 1.6101 - accuracy: 0.1937 - val_loss: 1.6197 - val_accuracy: 0.0800\n",
            "Epoch 4/10\n",
            "95/95 [==============================] - 14s 144ms/step - loss: 1.6098 - accuracy: 0.1726 - val_loss: 1.6197 - val_accuracy: 0.0800\n",
            "Epoch 5/10\n",
            "95/95 [==============================] - 14s 147ms/step - loss: 1.6097 - accuracy: 0.1895 - val_loss: 1.6203 - val_accuracy: 0.1200\n",
            "Epoch 6/10\n",
            "95/95 [==============================] - 14s 149ms/step - loss: 1.6097 - accuracy: 0.1832 - val_loss: 1.6207 - val_accuracy: 0.0800\n",
            "Epoch 7/10\n",
            "95/95 [==============================] - 14s 152ms/step - loss: 1.6096 - accuracy: 0.1874 - val_loss: 1.6225 - val_accuracy: 0.0800\n",
            "Epoch 8/10\n",
            "95/95 [==============================] - 14s 151ms/step - loss: 1.6096 - accuracy: 0.2063 - val_loss: 1.6231 - val_accuracy: 0.0800\n",
            "Epoch 9/10\n",
            "95/95 [==============================] - 14s 149ms/step - loss: 1.6098 - accuracy: 0.1916 - val_loss: 1.6212 - val_accuracy: 0.0800\n",
            "Epoch 10/10\n",
            "95/95 [==============================] - 14s 148ms/step - loss: 1.6102 - accuracy: 0.1726 - val_loss: 1.6177 - val_accuracy: 0.0800\n"
          ]
        }
      ]
    },
    {
      "cell_type": "code",
      "source": [
        "custom_history.history??\n",
        "print(custom_history.history['accuracy'])\n",
        "print(custom_history.history['val_accuracy'])"
      ],
      "metadata": {
        "id": "w1dgYN6hyQQA",
        "outputId": "73854629-6ca9-40c9-8249-add782f10b9c",
        "colab": {
          "base_uri": "https://localhost:8080/"
        }
      },
      "execution_count": 22,
      "outputs": [
        {
          "output_type": "stream",
          "name": "stdout",
          "text": [
            "[0.19368420541286469, 0.20000000298023224, 0.19368420541286469, 0.17263157665729523, 0.1894736886024475, 0.18315789103507996, 0.18736842274665833, 0.2063157856464386, 0.1915789544582367, 0.17263157665729523]\n",
            "[0.23999999463558197, 0.07999999821186066, 0.07999999821186066, 0.07999999821186066, 0.11999999731779099, 0.07999999821186066, 0.07999999821186066, 0.07999999821186066, 0.07999999821186066, 0.07999999821186066]\n"
          ]
        }
      ]
    },
    {
      "cell_type": "code",
      "source": [
        "evaluation = model.evaluate(test_x, test_y)\n",
        "print(\"Validation Loss:\", evaluation[0])\n",
        "print(\"Validation Accuracy:\", evaluation[1])"
      ],
      "metadata": {
        "execution": {
          "iopub.status.busy": "2024-06-06T16:19:08.598393Z",
          "iopub.execute_input": "2024-06-06T16:19:08.598848Z",
          "iopub.status.idle": "2024-06-06T16:19:18.915242Z",
          "shell.execute_reply.started": "2024-06-06T16:19:08.598814Z",
          "shell.execute_reply": "2024-06-06T16:19:18.914000Z"
        },
        "trusted": true,
        "colab": {
          "base_uri": "https://localhost:8080/"
        },
        "id": "JX-d5pbRwHNw",
        "outputId": "6e2d259e-63ab-41b3-df30-edc5ec67fd13"
      },
      "execution_count": 23,
      "outputs": [
        {
          "output_type": "stream",
          "name": "stdout",
          "text": [
            "1/1 [==============================] - 6s 6s/step - loss: 1.6177 - accuracy: 0.0800\n",
            "Validation Loss: 1.6176828145980835\n",
            "Validation Accuracy: 0.07999999821186066\n"
          ]
        }
      ]
    },
    {
      "cell_type": "code",
      "source": [
        "from tensorflow.keras.applications import VGG19\n",
        "from tensorflow.keras.models import Model\n",
        "from tensorflow.keras.layers import Dense, Flatten\n",
        "from tensorflow.keras.optimizers import Adam\n",
        "from tensorflow.keras.callbacks import EarlyStopping,CSVLogger\n",
        "\n",
        "base_model = VGG19(weights='imagenet', include_top = False, input_shape = (224, 224, 3))\n",
        "\n",
        "for layer in base_model.layers:\n",
        "    layer.trainable = True\n",
        "\n",
        "x = Flatten()(base_model.output)\n",
        "x = Dense(1024, activation = 'relu')(x)\n",
        "x = Dense(len(flag_types), activation = 'softmax')(x)\n",
        "\n",
        "model_post = Model(inputs = base_model.input, outputs = x)\n",
        "model_post.compile(optimizer=Adam(), loss = 'categorical_crossentropy', metrics = ['accuracy'])"
      ],
      "metadata": {
        "execution": {
          "iopub.status.busy": "2024-06-06T18:01:40.215245Z",
          "iopub.execute_input": "2024-06-06T18:01:40.215706Z",
          "iopub.status.idle": "2024-06-06T18:02:00.749524Z",
          "shell.execute_reply.started": "2024-06-06T18:01:40.215676Z",
          "shell.execute_reply": "2024-06-06T18:02:00.747502Z"
        },
        "trusted": true,
        "colab": {
          "base_uri": "https://localhost:8080/"
        },
        "id": "1m7nvaPEwHNw",
        "outputId": "ee7b93bf-51f3-4428-d23b-baccd772d9f1"
      },
      "execution_count": 24,
      "outputs": [
        {
          "output_type": "stream",
          "name": "stdout",
          "text": [
            "Downloading data from https://storage.googleapis.com/tensorflow/keras-applications/vgg19/vgg19_weights_tf_dim_ordering_tf_kernels_notop.h5\n",
            "80134624/80134624 [==============================] - 0s 0us/step\n"
          ]
        }
      ]
    },
    {
      "cell_type": "code",
      "source": [
        "base_history = model_post.fit(train_x, train_y, epochs = 10, batch_size = 10, validation_data=(test_x, test_y))"
      ],
      "metadata": {
        "trusted": true,
        "colab": {
          "base_uri": "https://localhost:8080/"
        },
        "id": "wuNGrX3mwHNw",
        "outputId": "47b363a4-ed47-48f4-fdac-619634e67a09"
      },
      "execution_count": 25,
      "outputs": [
        {
          "output_type": "stream",
          "name": "stdout",
          "text": [
            "Epoch 1/10\n",
            "48/48 [==============================] - 24s 207ms/step - loss: 2.2888 - accuracy: 0.1768 - val_loss: 3.0972 - val_accuracy: 0.1200\n",
            "Epoch 2/10\n",
            "48/48 [==============================] - 10s 199ms/step - loss: 1.6602 - accuracy: 0.1979 - val_loss: 1.6142 - val_accuracy: 0.1600\n",
            "Epoch 3/10\n",
            "48/48 [==============================] - 10s 202ms/step - loss: 1.6120 - accuracy: 0.1705 - val_loss: 1.6050 - val_accuracy: 0.4000\n",
            "Epoch 4/10\n",
            "48/48 [==============================] - 10s 199ms/step - loss: 1.6101 - accuracy: 0.1389 - val_loss: 1.6113 - val_accuracy: 0.1200\n",
            "Epoch 5/10\n",
            "48/48 [==============================] - 9s 193ms/step - loss: 1.6097 - accuracy: 0.1811 - val_loss: 1.6147 - val_accuracy: 0.1200\n",
            "Epoch 6/10\n",
            "48/48 [==============================] - 9s 192ms/step - loss: 1.6098 - accuracy: 0.1895 - val_loss: 1.6164 - val_accuracy: 0.0800\n",
            "Epoch 7/10\n",
            "48/48 [==============================] - 9s 194ms/step - loss: 1.6096 - accuracy: 0.2063 - val_loss: 1.6156 - val_accuracy: 0.0800\n",
            "Epoch 8/10\n",
            "48/48 [==============================] - 9s 190ms/step - loss: 1.6094 - accuracy: 0.1895 - val_loss: 1.6185 - val_accuracy: 0.1200\n",
            "Epoch 9/10\n",
            "48/48 [==============================] - 10s 198ms/step - loss: 1.6097 - accuracy: 0.1916 - val_loss: 1.6192 - val_accuracy: 0.0800\n",
            "Epoch 10/10\n",
            "48/48 [==============================] - 9s 193ms/step - loss: 1.6094 - accuracy: 0.1832 - val_loss: 1.6208 - val_accuracy: 0.1200\n"
          ]
        }
      ]
    },
    {
      "cell_type": "code",
      "source": [
        "print(base_history.history['accuracy'])\n",
        "print(base_history.history['val_accuracy'])"
      ],
      "metadata": {
        "id": "SngVifls1aZu",
        "colab": {
          "base_uri": "https://localhost:8080/"
        },
        "outputId": "21cf7a08-7450-4e63-a8f4-6031705ac18e"
      },
      "execution_count": 26,
      "outputs": [
        {
          "output_type": "stream",
          "name": "stdout",
          "text": [
            "[0.1768421083688736, 0.19789473712444305, 0.17052631080150604, 0.13894736766815186, 0.18105262517929077, 0.1894736886024475, 0.2063157856464386, 0.1894736886024475, 0.1915789544582367, 0.18315789103507996]\n",
            "[0.11999999731779099, 0.1599999964237213, 0.4000000059604645, 0.11999999731779099, 0.11999999731779099, 0.07999999821186066, 0.07999999821186066, 0.11999999731779099, 0.07999999821186066, 0.11999999731779099]\n"
          ]
        }
      ]
    },
    {
      "cell_type": "code",
      "source": [
        "evaluation_x = model_post.evaluate(test_x, test_y)\n",
        "print(\"Validation Loss:\", evaluation_x[0])\n",
        "print(\"Validation Accuracy:\", evaluation_x[1])"
      ],
      "metadata": {
        "trusted": true,
        "colab": {
          "base_uri": "https://localhost:8080/"
        },
        "id": "EiVSnLjKwHNw",
        "outputId": "8d2a4a79-8bb5-46a0-ebff-ef9d8f6e9ca1"
      },
      "execution_count": 27,
      "outputs": [
        {
          "output_type": "stream",
          "name": "stdout",
          "text": [
            "1/1 [==============================] - 0s 217ms/step - loss: 1.6208 - accuracy: 0.1200\n",
            "Validation Loss: 1.6208484172821045\n",
            "Validation Accuracy: 0.11999999731779099\n"
          ]
        }
      ]
    },
    {
      "cell_type": "code",
      "source": [
        "plt.figure(figsize=(20, 5))\n",
        "plt.subplot(1, 3, 1)\n",
        "plt.plot(custom_history.history['accuracy'],  label='Training Accuracy')\n",
        "plt.plot(custom_history.history['val_accuracy'], label='Testing Accuracy')\n",
        "plt.plot(custom_history.history['loss'], label='Loss')\n",
        "plt.title('Training and Tranig Accuracy loss on Custom VGG19')\n",
        "plt.xlabel('Epochs')\n",
        "plt.ylabel('Accuracy')\n",
        "plt.legend()\n",
        "\n",
        "# Plot training and validation loss\n",
        "plt.subplot(1, 3, 2)\n",
        "plt.plot(base_history.history['accuracy'],  label='Training Accuracy')\n",
        "plt.plot(base_history.history['val_accuracy'], label='Testing Accuracy')\n",
        "plt.plot(base_history.history['loss'], label='Loss')\n",
        "plt.title('Training and Tranig Accuracy, Loss on Pre VGG19')\n",
        "plt.xlabel('Epochs')\n",
        "plt.ylabel('Loss')\n",
        "plt.legend()\n",
        "\n",
        "plt.tight_layout()\n",
        "plt.show()"
      ],
      "metadata": {
        "colab": {
          "base_uri": "https://localhost:8080/",
          "height": 507
        },
        "id": "x_wOHdS-_OUc",
        "outputId": "3c56a5b5-3658-46b6-c82c-bc6c21cf40e5"
      },
      "execution_count": 28,
      "outputs": [
        {
          "output_type": "display_data",
          "data": {
            "text/plain": [
              "<Figure size 2000x500 with 2 Axes>"
            ],
            "image/png": "[encoded data removed]"
          },
          "metadata": {}
        }
      ]
    },
    {
      "cell_type": "code",
      "source": [
        "from sklearn.metrics import classification_report\n",
        "from sklearn.model_selection import train_test_split\n",
        "from sklearn.datasets import load_iris\n",
        "from sklearn.ensemble import RandomForestClassifier"
      ],
      "metadata": {
        "id": "SeL5MMJNKhcx"
      },
      "execution_count": 29,
      "outputs": []
    },
    {
      "cell_type": "code",
      "source": [
        "y_pred1 = model.predict(test_x)\n",
        "y_pred2 = model_post.predict(test_x)"
      ],
      "metadata": {
        "colab": {
          "base_uri": "https://localhost:8080/"
        },
        "id": "Hhat8F9aKihw",
        "outputId": "3b7f4e4c-5f4a-4ff2-b57f-ec1aadddd925"
      },
      "execution_count": 30,
      "outputs": [
        {
          "output_type": "stream",
          "name": "stdout",
          "text": [
            "1/1 [==============================] - 0s 307ms/step\n",
            "1/1 [==============================] - 0s 268ms/step\n"
          ]
        }
      ]
    },
    {
      "cell_type": "code",
      "source": [
        "print(y_pred2)\n",
        "print(test_y)"
      ],
      "metadata": {
        "colab": {
          "base_uri": "https://localhost:8080/"
        },
        "id": "lfSEFPYzUsjK",
        "outputId": "feaa8cee-1829-4a4d-8e74-a51bb7742c55"
      },
      "execution_count": 47,
      "outputs": [
        {
          "output_type": "stream",
          "name": "stdout",
          "text": [
            "[[0.19256352 0.20342048 0.20174286 0.202993   0.19928016]\n",
            " [0.19256352 0.20342048 0.20174286 0.202993   0.19928016]\n",
            " [0.19256352 0.20342048 0.20174286 0.202993   0.19928016]\n",
            " [0.19256352 0.20342048 0.20174286 0.202993   0.19928016]\n",
            " [0.19256352 0.20342048 0.20174286 0.202993   0.19928016]\n",
            " [0.19256352 0.20342048 0.20174286 0.202993   0.19928016]\n",
            " [0.19256352 0.20342048 0.20174286 0.202993   0.19928016]\n",
            " [0.19256352 0.20342048 0.20174286 0.202993   0.19928016]\n",
            " [0.19256352 0.20342048 0.20174286 0.202993   0.19928016]\n",
            " [0.19256352 0.20342048 0.20174286 0.202993   0.19928016]\n",
            " [0.19256352 0.20342048 0.20174286 0.202993   0.19928016]\n",
            " [0.19256352 0.20342048 0.20174286 0.202993   0.19928016]\n",
            " [0.19256352 0.20342048 0.20174286 0.202993   0.19928016]\n",
            " [0.19256352 0.20342048 0.20174286 0.202993   0.19928016]\n",
            " [0.19256352 0.20342048 0.20174286 0.202993   0.19928016]\n",
            " [0.19256352 0.20342048 0.20174286 0.202993   0.19928016]\n",
            " [0.19256352 0.20342048 0.20174286 0.202993   0.19928016]\n",
            " [0.19256352 0.20342048 0.20174286 0.202993   0.19928016]\n",
            " [0.19256352 0.20342048 0.20174286 0.202993   0.19928016]\n",
            " [0.19256352 0.20342048 0.20174286 0.202993   0.19928016]\n",
            " [0.19256352 0.20342048 0.20174286 0.202993   0.19928016]\n",
            " [0.19256352 0.20342048 0.20174286 0.202993   0.19928016]\n",
            " [0.19256352 0.20342048 0.20174286 0.202993   0.19928016]\n",
            " [0.19256352 0.20342048 0.20174286 0.202993   0.19928016]\n",
            " [0.19256352 0.20342048 0.20174286 0.202993   0.19928016]]\n",
            "[[0. 0. 0. 0. 1.]\n",
            " [1. 0. 0. 0. 0.]\n",
            " [0. 1. 0. 0. 0.]\n",
            " [1. 0. 0. 0. 0.]\n",
            " [1. 0. 0. 0. 0.]\n",
            " [0. 0. 1. 0. 0.]\n",
            " [1. 0. 0. 0. 0.]\n",
            " [1. 0. 0. 0. 0.]\n",
            " [1. 0. 0. 0. 0.]\n",
            " [0. 0. 0. 0. 1.]\n",
            " [0. 0. 1. 0. 0.]\n",
            " [0. 0. 0. 0. 1.]\n",
            " [1. 0. 0. 0. 0.]\n",
            " [0. 0. 1. 0. 0.]\n",
            " [1. 0. 0. 0. 0.]\n",
            " [0. 1. 0. 0. 0.]\n",
            " [0. 0. 0. 1. 0.]\n",
            " [1. 0. 0. 0. 0.]\n",
            " [1. 0. 0. 0. 0.]\n",
            " [0. 0. 0. 0. 1.]\n",
            " [0. 0. 0. 1. 0.]\n",
            " [0. 0. 0. 0. 1.]\n",
            " [0. 0. 0. 0. 1.]\n",
            " [0. 1. 0. 0. 0.]\n",
            " [0. 0. 1. 0. 0.]]\n"
          ]
        }
      ]
    },
    {
      "cell_type": "code",
      "source": [
        "y_pred_classes1 = np.argmax(y_pred1, axis=1)\n",
        "print(y_pred_classes1)\n",
        "y_true1 = np.argmax(test_y, axis=1)\n",
        "report = classification_report(y_true1, y_pred_classes1, target_names = flag_types)\n",
        "\n",
        "print(report)"
      ],
      "metadata": {
        "colab": {
          "base_uri": "https://localhost:8080/"
        },
        "id": "g5_XxdS6LxEm",
        "outputId": "7a75ed1b-a0d5-42e4-f33e-1a9a382d9406"
      },
      "execution_count": 62,
      "outputs": [
        {
          "output_type": "stream",
          "name": "stdout",
          "text": [
            "[3 3 3 3 3 3 3 3 3 3 3 3 3 3 3 3 3 3 3 3 3 3 3 3 3]\n",
            "              precision    recall  f1-score   support\n",
            "\n",
            "       Nazli       0.00      0.00      0.00        10\n",
            "      Dimnit       0.00      0.00      0.00         3\n",
            "     Buzgulu       0.00      0.00      0.00         4\n",
            "   Ala_Idris       0.08      1.00      0.15         2\n",
            "          Ak       0.00      0.00      0.00         6\n",
            "\n",
            "    accuracy                           0.08        25\n",
            "   macro avg       0.02      0.20      0.03        25\n",
            "weighted avg       0.01      0.08      0.01        25\n",
            "\n"
          ]
        },
        {
          "output_type": "stream",
          "name": "stderr",
          "text": [
            "/usr/local/lib/python3.10/dist-packages/sklearn/metrics/_classification.py:1344: UndefinedMetricWarning: Precision and F-score are ill-defined and being set to 0.0 in labels with no predicted samples. Use `zero_division` parameter to control this behavior.\n",
            "  _warn_prf(average, modifier, msg_start, len(result))\n",
            "/usr/local/lib/python3.10/dist-packages/sklearn/metrics/_classification.py:1344: UndefinedMetricWarning: Precision and F-score are ill-defined and being set to 0.0 in labels with no predicted samples. Use `zero_division` parameter to control this behavior.\n",
            "  _warn_prf(average, modifier, msg_start, len(result))\n",
            "/usr/local/lib/python3.10/dist-packages/sklearn/metrics/_classification.py:1344: UndefinedMetricWarning: Precision and F-score are ill-defined and being set to 0.0 in labels with no predicted samples. Use `zero_division` parameter to control this behavior.\n",
            "  _warn_prf(average, modifier, msg_start, len(result))\n"
          ]
        }
      ]
    },
    {
      "cell_type": "code",
      "source": [
        "y_pred_classes2 = np.argmax(y_pred2, axis=1)\n",
        "print(y_pred_classes2)\n",
        "y_true2 = np.argmax(test_y, axis=1)\n",
        "report = classification_report(y_true2, y_pred_classes2, target_names = flag_types)\n",
        "\n",
        "print(report)"
      ],
      "metadata": {
        "colab": {
          "base_uri": "https://localhost:8080/"
        },
        "id": "gkLNwI4vb6xA",
        "outputId": "774f94e6-b292-4654-f1ab-19d0da14efa3"
      },
      "execution_count": 54,
      "outputs": [
        {
          "output_type": "stream",
          "name": "stdout",
          "text": [
            "[1 1 1 1 1 1 1 1 1 1 1 1 1 1 1 1 1 1 1 1 1 1 1 1 1]\n",
            "              precision    recall  f1-score   support\n",
            "\n",
            "       Nazli       0.00      0.00      0.00        10\n",
            "      Dimnit       0.12      1.00      0.21         3\n",
            "     Buzgulu       0.00      0.00      0.00         4\n",
            "   Ala_Idris       0.00      0.00      0.00         2\n",
            "          Ak       0.00      0.00      0.00         6\n",
            "\n",
            "    accuracy                           0.12        25\n",
            "   macro avg       0.02      0.20      0.04        25\n",
            "weighted avg       0.01      0.12      0.03        25\n",
            "\n"
          ]
        },
        {
          "output_type": "stream",
          "name": "stderr",
          "text": [
            "/usr/local/lib/python3.10/dist-packages/sklearn/metrics/_classification.py:1344: UndefinedMetricWarning: Precision and F-score are ill-defined and being set to 0.0 in labels with no predicted samples. Use `zero_division` parameter to control this behavior.\n",
            "  _warn_prf(average, modifier, msg_start, len(result))\n",
            "/usr/local/lib/python3.10/dist-packages/sklearn/metrics/_classification.py:1344: UndefinedMetricWarning: Precision and F-score are ill-defined and being set to 0.0 in labels with no predicted samples. Use `zero_division` parameter to control this behavior.\n",
            "  _warn_prf(average, modifier, msg_start, len(result))\n",
            "/usr/local/lib/python3.10/dist-packages/sklearn/metrics/_classification.py:1344: UndefinedMetricWarning: Precision and F-score are ill-defined and being set to 0.0 in labels with no predicted samples. Use `zero_division` parameter to control this behavior.\n",
            "  _warn_prf(average, modifier, msg_start, len(result))\n"
          ]
        }
      ]
    },
    {
      "cell_type": "code",
      "source": [
        "import seaborn as sns\n",
        "from sklearn.metrics import confusion_matrix\n",
        "\n",
        "cm1 = confusion_matrix(y_true1, y_pred_classes1)\n",
        "cm2 = confusion_matrix(y_true2, y_pred_classes2)\n",
        "\n",
        "plt.figure(figsize=(20, 5))\n",
        "sns.heatmap(cm1, annot=True, fmt='d', cmap='Blues', xticklabels=flag_types, yticklabels=flag_types)\n",
        "plt.xlabel('Predicted')\n",
        "plt.ylabel('Actual')\n",
        "plt.title('Confusion Matrix custom')\n",
        "plt.show()\n",
        "\n",
        "plt.figure(figsize=(20, 5))\n",
        "sns.heatmap(cm2, annot=True, fmt='d', cmap='Reds', xticklabels=flag_types, yticklabels=flag_types)\n",
        "plt.xlabel('Predicted')\n",
        "plt.ylabel('Actual')\n",
        "plt.title('Confusion Matrix Pre Trained')\n",
        "plt.show()"
      ],
      "metadata": {
        "colab": {
          "base_uri": "https://localhost:8080/",
          "height": 957
        },
        "id": "2QStq8FneZQe",
        "outputId": "590e9407-81b4-49c9-8922-5e30aabfe62d"
      },
      "execution_count": 63,
      "outputs": [
        {
          "output_type": "display_data",
          "data": {
            "text/plain": [
              "<Figure size 2000x500 with 2 Axes>"
            ],
            "image/png": "[encoded data removed]"
          },
          "metadata": {}
        },
        {
          "output_type": "display_data",
          "data": {
            "text/plain": [
              "<Figure size 2000x500 with 2 Axes>"
            ],
            "image/png": "[encoded data removed]"
          },
          "metadata": {}
        }
      ]
    }
  ]
}